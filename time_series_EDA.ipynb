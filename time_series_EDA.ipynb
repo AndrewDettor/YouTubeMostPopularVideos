{
 "cells": [
  {
   "cell_type": "code",
   "execution_count": 6,
   "metadata": {},
   "outputs": [],
   "source": [
    "import os\n",
    "import psycopg2\n",
    "from dotenv import load_dotenv\n",
    "from sshtunnel import SSHTunnelForwarder\n",
    "import time\n",
    "import pandas as pd"
   ]
  },
  {
   "cell_type": "code",
   "execution_count": 2,
   "metadata": {},
   "outputs": [],
   "source": [
    "# Load environment variables from .env file\n",
    "load_dotenv(\"environment_variables.env\")\n",
    "psql_pw = os.getenv(\"PSQL_PW\")"
   ]
  },
  {
   "cell_type": "markdown",
   "metadata": {},
   "source": [
    "# Get data\n",
    "## DB Connection"
   ]
  },
  {
   "cell_type": "code",
   "execution_count": 3,
   "metadata": {},
   "outputs": [
    {
     "name": "stdout",
     "output_type": "stream",
     "text": [
      "You are connected to -  ('PostgreSQL 16.1 on x86_64-pc-linux-gnu, compiled by gcc (GCC) 7.3.1 20180712 (Red Hat 7.3.1-12), 64-bit',)\n"
     ]
    }
   ],
   "source": [
    "# Connect to AWS RDS instance through AWS EC2 instance\n",
    "\n",
    "# SSH parameters\n",
    "bastion_host = 'ec2-34-224-93-62.compute-1.amazonaws.com'\n",
    "bastion_user = 'ec2-user'\n",
    "bastion_key = 'C:\\\\Users\\\\detto\\\\Documents\\\\ec2-key-pair.pem'\n",
    "\n",
    "# RDS parameters\n",
    "rds_host = 'youtubeviewprediction.cd0c8oow2pnr.us-east-1.rds.amazonaws.com'\n",
    "rds_user = 'postgres'\n",
    "rds_password = psql_pw\n",
    "rds_database = 'YouTubeViewPrediction'\n",
    "rds_port = 5432\n",
    "\n",
    "try:\n",
    "    # Create an SSH tunnel\n",
    "    tunnel = SSHTunnelForwarder(\n",
    "        (bastion_host, 22),\n",
    "        ssh_username=bastion_user,\n",
    "        ssh_pkey=bastion_key,\n",
    "        remote_bind_address=(rds_host, rds_port),\n",
    "        local_bind_address=('localhost', 6543)  # Choose a local port for the tunnel\n",
    "    )\n",
    "\n",
    "    # Start the tunnel\n",
    "    tunnel.start()\n",
    "\n",
    "    # Connect to PostgreSQL through the tunnel\n",
    "    conn = psycopg2.connect(\n",
    "        database=rds_database,\n",
    "        user=rds_user,\n",
    "        password=rds_password,\n",
    "        host=tunnel.local_bind_host,\n",
    "        port=tunnel.local_bind_port\n",
    "    )\n",
    "\n",
    "    # Create a cursor object\n",
    "    cursor = conn.cursor()\n",
    "\n",
    "    # Execute a SQL query\n",
    "    cursor.execute(\"SELECT version();\")\n",
    "\n",
    "    # Fetch result\n",
    "    record = cursor.fetchone()\n",
    "    print(\"You are connected to - \", record)\n",
    "\n",
    "except (Exception, psycopg2.Error) as error:\n",
    "    print(\"Error while connecting to PostgreSQL\", error)\n",
    "    tunnel.stop()"
   ]
  },
  {
   "cell_type": "markdown",
   "metadata": {},
   "source": [
    "## Turn SQL tables in to Pandas dataframes"
   ]
  },
  {
   "cell_type": "code",
   "execution_count": 8,
   "metadata": {},
   "outputs": [],
   "source": [
    "video_fact = pd.read_sql_query(\"SELECT * FROM video_fact\", conn)\n",
    "video_dim = pd.read_sql_query(\"SELECT * FROM video_dim\", conn)\n",
    "channel_fact = pd.read_sql_query(\"SELECT * FROM channel_fact\", conn)\n",
    "channel_dim = pd.read_sql_query(\"SELECT * FROM channel_dim\", conn)\n",
    "categories_dim = pd.read_sql_query(\"SELECT * FROM categories_dim\", conn)"
   ]
  },
  {
   "cell_type": "code",
   "execution_count": 9,
   "metadata": {},
   "outputs": [],
   "source": [
    "conn.close()\n",
    "cursor.close()\n",
    "tunnel.stop()"
   ]
  },
  {
   "cell_type": "markdown",
   "metadata": {},
   "source": [
    "# EDA\n",
    "## video_fact"
   ]
  },
  {
   "cell_type": "code",
   "execution_count": 14,
   "metadata": {},
   "outputs": [
    {
     "data": {
      "text/plain": [
       "(59219, 5)"
      ]
     },
     "execution_count": 14,
     "metadata": {},
     "output_type": "execute_result"
    }
   ],
   "source": [
    "video_fact.shape"
   ]
  },
  {
   "cell_type": "code",
   "execution_count": 11,
   "metadata": {},
   "outputs": [
    {
     "data": {
      "text/plain": [
       "collected_at    datetime64[ns]\n",
       "video_id                object\n",
       "num_views                int64\n",
       "num_likes                int64\n",
       "num_comments             int64\n",
       "dtype: object"
      ]
     },
     "execution_count": 11,
     "metadata": {},
     "output_type": "execute_result"
    }
   ],
   "source": [
    "video_fact.dtypes"
   ]
  },
  {
   "cell_type": "code",
   "execution_count": 12,
   "metadata": {},
   "outputs": [
    {
     "data": {
      "text/html": [
       "<div>\n",
       "<style scoped>\n",
       "    .dataframe tbody tr th:only-of-type {\n",
       "        vertical-align: middle;\n",
       "    }\n",
       "\n",
       "    .dataframe tbody tr th {\n",
       "        vertical-align: top;\n",
       "    }\n",
       "\n",
       "    .dataframe thead th {\n",
       "        text-align: right;\n",
       "    }\n",
       "</style>\n",
       "<table border=\"1\" class=\"dataframe\">\n",
       "  <thead>\n",
       "    <tr style=\"text-align: right;\">\n",
       "      <th></th>\n",
       "      <th>num_views</th>\n",
       "      <th>num_likes</th>\n",
       "      <th>num_comments</th>\n",
       "    </tr>\n",
       "  </thead>\n",
       "  <tbody>\n",
       "    <tr>\n",
       "      <th>count</th>\n",
       "      <td>5.921900e+04</td>\n",
       "      <td>5.921900e+04</td>\n",
       "      <td>59219.000000</td>\n",
       "    </tr>\n",
       "    <tr>\n",
       "      <th>mean</th>\n",
       "      <td>2.979527e+06</td>\n",
       "      <td>1.176571e+05</td>\n",
       "      <td>7854.126649</td>\n",
       "    </tr>\n",
       "    <tr>\n",
       "      <th>std</th>\n",
       "      <td>1.162246e+07</td>\n",
       "      <td>5.399850e+05</td>\n",
       "      <td>30267.041495</td>\n",
       "    </tr>\n",
       "    <tr>\n",
       "      <th>min</th>\n",
       "      <td>3.034000e+04</td>\n",
       "      <td>0.000000e+00</td>\n",
       "      <td>0.000000</td>\n",
       "    </tr>\n",
       "    <tr>\n",
       "      <th>25%</th>\n",
       "      <td>4.690950e+05</td>\n",
       "      <td>1.299650e+04</td>\n",
       "      <td>979.000000</td>\n",
       "    </tr>\n",
       "    <tr>\n",
       "      <th>50%</th>\n",
       "      <td>9.611560e+05</td>\n",
       "      <td>3.158900e+04</td>\n",
       "      <td>2447.000000</td>\n",
       "    </tr>\n",
       "    <tr>\n",
       "      <th>75%</th>\n",
       "      <td>2.063594e+06</td>\n",
       "      <td>7.691300e+04</td>\n",
       "      <td>4984.000000</td>\n",
       "    </tr>\n",
       "    <tr>\n",
       "      <th>max</th>\n",
       "      <td>2.156450e+08</td>\n",
       "      <td>8.272778e+06</td>\n",
       "      <td>385935.000000</td>\n",
       "    </tr>\n",
       "  </tbody>\n",
       "</table>\n",
       "</div>"
      ],
      "text/plain": [
       "          num_views     num_likes   num_comments\n",
       "count  5.921900e+04  5.921900e+04   59219.000000\n",
       "mean   2.979527e+06  1.176571e+05    7854.126649\n",
       "std    1.162246e+07  5.399850e+05   30267.041495\n",
       "min    3.034000e+04  0.000000e+00       0.000000\n",
       "25%    4.690950e+05  1.299650e+04     979.000000\n",
       "50%    9.611560e+05  3.158900e+04    2447.000000\n",
       "75%    2.063594e+06  7.691300e+04    4984.000000\n",
       "max    2.156450e+08  8.272778e+06  385935.000000"
      ]
     },
     "execution_count": 12,
     "metadata": {},
     "output_type": "execute_result"
    }
   ],
   "source": [
    "video_fact.describe()"
   ]
  },
  {
   "cell_type": "code",
   "execution_count": 17,
   "metadata": {},
   "outputs": [
    {
     "data": {
      "text/plain": [
       "collected_at    129\n",
       "video_id        720\n",
       "dtype: int64"
      ]
     },
     "execution_count": 17,
     "metadata": {},
     "output_type": "execute_result"
    }
   ],
   "source": [
    "video_fact[[\"collected_at\", \"video_id\"]].nunique()"
   ]
  },
  {
   "cell_type": "code",
   "execution_count": 2,
   "metadata": {},
   "outputs": [
    {
     "ename": "NameError",
     "evalue": "name 'video_fact' is not defined",
     "output_type": "error",
     "traceback": [
      "\u001b[1;31m---------------------------------------------------------------------------\u001b[0m",
      "\u001b[1;31mNameError\u001b[0m                                 Traceback (most recent call last)",
      "Cell \u001b[1;32mIn[2], line 1\u001b[0m\n\u001b[1;32m----> 1\u001b[0m \u001b[43mvideo_fact\u001b[49m\u001b[38;5;241m.\u001b[39misna()\u001b[38;5;241m.\u001b[39msum()\n",
      "\u001b[1;31mNameError\u001b[0m: name 'video_fact' is not defined"
     ]
    }
   ],
   "source": [
    "video_fact.isna().sum()"
   ]
  },
  {
   "cell_type": "code",
   "execution_count": 1,
   "metadata": {},
   "outputs": [
    {
     "ename": "NameError",
     "evalue": "name 'video_fact' is not defined",
     "output_type": "error",
     "traceback": [
      "\u001b[1;31m---------------------------------------------------------------------------\u001b[0m",
      "\u001b[1;31mNameError\u001b[0m                                 Traceback (most recent call last)",
      "Cell \u001b[1;32mIn[1], line 1\u001b[0m\n\u001b[1;32m----> 1\u001b[0m \u001b[43mvideo_fact\u001b[49m[\u001b[38;5;124m\"\u001b[39m\u001b[38;5;124mvideo_id\u001b[39m\u001b[38;5;124m\"\u001b[39m]\u001b[38;5;241m.\u001b[39mvalue_counts()\n",
      "\u001b[1;31mNameError\u001b[0m: name 'video_fact' is not defined"
     ]
    }
   ],
   "source": [
    "video_fact[\"video_id\"].value_counts()"
   ]
  },
  {
   "cell_type": "code",
   "execution_count": null,
   "metadata": {},
   "outputs": [],
   "source": []
  }
 ],
 "metadata": {
  "kernelspec": {
   "display_name": "Python 3",
   "language": "python",
   "name": "python3"
  },
  "language_info": {
   "codemirror_mode": {
    "name": "ipython",
    "version": 3
   },
   "file_extension": ".py",
   "mimetype": "text/x-python",
   "name": "python",
   "nbconvert_exporter": "python",
   "pygments_lexer": "ipython3",
   "version": "3.10.6"
  }
 },
 "nbformat": 4,
 "nbformat_minor": 2
}
