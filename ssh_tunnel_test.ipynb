{
 "cells": [
  {
   "cell_type": "code",
   "execution_count": 16,
   "metadata": {},
   "outputs": [
    {
     "name": "stdout",
     "output_type": "stream",
     "text": [
      "Collecting sshtunnel\n",
      "  Downloading sshtunnel-0.4.0-py2.py3-none-any.whl (24 kB)\n",
      "Requirement already satisfied: paramiko>=2.7.2 in c:\\users\\detto\\appdata\\local\\programs\\python\\python310\\lib\\site-packages (from sshtunnel) (3.4.0)\n",
      "Requirement already satisfied: cryptography>=3.3 in c:\\users\\detto\\appdata\\local\\programs\\python\\python310\\lib\\site-packages (from paramiko>=2.7.2->sshtunnel) (39.0.0)\n",
      "Requirement already satisfied: pynacl>=1.5 in c:\\users\\detto\\appdata\\local\\programs\\python\\python310\\lib\\site-packages (from paramiko>=2.7.2->sshtunnel) (1.5.0)\n",
      "Requirement already satisfied: bcrypt>=3.2 in c:\\users\\detto\\appdata\\local\\programs\\python\\python310\\lib\\site-packages (from paramiko>=2.7.2->sshtunnel) (4.1.3)\n",
      "Requirement already satisfied: cffi>=1.12 in c:\\users\\detto\\appdata\\roaming\\python\\python310\\site-packages (from cryptography>=3.3->paramiko>=2.7.2->sshtunnel) (1.15.1)\n",
      "Requirement already satisfied: pycparser in c:\\users\\detto\\appdata\\roaming\\python\\python310\\site-packages (from cffi>=1.12->cryptography>=3.3->paramiko>=2.7.2->sshtunnel) (2.21)\n",
      "Installing collected packages: sshtunnel\n",
      "Successfully installed sshtunnel-0.4.0\n",
      "Note: you may need to restart the kernel to use updated packages.\n"
     ]
    },
    {
     "name": "stderr",
     "output_type": "stream",
     "text": [
      "\n",
      "[notice] A new release of pip is available: 23.0.1 -> 24.1.2\n",
      "[notice] To update, run: python.exe -m pip install --upgrade pip\n"
     ]
    }
   ],
   "source": [
    "%pip install sshtunnel"
   ]
  },
  {
   "cell_type": "code",
   "execution_count": 18,
   "metadata": {},
   "outputs": [],
   "source": [
    "import os\n",
    "import psycopg2\n",
    "from sshtunnel import SSHTunnelForwarder\n",
    "from dotenv import load_dotenv"
   ]
  },
  {
   "cell_type": "code",
   "execution_count": 11,
   "metadata": {},
   "outputs": [],
   "source": [
    "# Load environment variables from .env file\n",
    "load_dotenv(\"environment_variables.env\")\n",
    "api_key = os.getenv(\"API_KEY\")\n",
    "psql_pw = os.getenv(\"PSQL_PW\")"
   ]
  },
  {
   "cell_type": "code",
   "execution_count": 29,
   "metadata": {},
   "outputs": [
    {
     "name": "stdout",
     "output_type": "stream",
     "text": [
      "You are connected to -  ('PostgreSQL 16.1 on x86_64-pc-linux-gnu, compiled by gcc (GCC) 7.3.1 20180712 (Red Hat 7.3.1-12), 64-bit',) \n",
      "\n"
     ]
    }
   ],
   "source": [
    "# SSH parameters\n",
    "bastion_host = 'ec2-34-224-93-62.compute-1.amazonaws.com'\n",
    "bastion_user = 'ec2-user'\n",
    "bastion_key = 'C:\\\\Users\\\\detto\\\\Documents\\\\ec2-key-pair.pem'\n",
    "\n",
    "# RDS parameters\n",
    "rds_host = 'youtubeviewprediction.cd0c8oow2pnr.us-east-1.rds.amazonaws.com'\n",
    "rds_user = 'postgres'\n",
    "rds_password = os.getenv(\"PSQL_PW\")\n",
    "rds_database = 'YouTubeViewPrediction'\n",
    "rds_port = 5432\n",
    "\n",
    "# Create an SSH tunnel\n",
    "with SSHTunnelForwarder(\n",
    "    (bastion_host, 22),\n",
    "    ssh_username=bastion_user,\n",
    "    ssh_pkey=bastion_key,\n",
    "    remote_bind_address=(rds_host, rds_port),\n",
    "    local_bind_address=('localhost', 6543)  # Choose a local port for the tunnel\n",
    ") as tunnel:\n",
    "    # Connect to PostgreSQL through the tunnel\n",
    "    conn = psycopg2.connect(\n",
    "        database=rds_database,\n",
    "        user=rds_user,\n",
    "        password=rds_password,\n",
    "        host=tunnel.local_bind_host,\n",
    "        port=tunnel.local_bind_port\n",
    "    )\n",
    "\n",
    "    # Create a cursor object using the cursor() method\n",
    "    cursor = conn.cursor()\n",
    "\n",
    "    # Execute a SQL query\n",
    "    cursor.execute(\"SELECT version();\")\n",
    "\n",
    "    # Fetch result\n",
    "    record = cursor.fetchone()\n",
    "    print(\"You are connected to - \", record, \"\\n\")"
   ]
  },
  {
   "cell_type": "code",
   "execution_count": null,
   "metadata": {},
   "outputs": [],
   "source": []
  }
 ],
 "metadata": {
  "kernelspec": {
   "display_name": "Python 3",
   "language": "python",
   "name": "python3"
  },
  "language_info": {
   "codemirror_mode": {
    "name": "ipython",
    "version": 3
   },
   "file_extension": ".py",
   "mimetype": "text/x-python",
   "name": "python",
   "nbconvert_exporter": "python",
   "pygments_lexer": "ipython3",
   "version": "3.10.6"
  }
 },
 "nbformat": 4,
 "nbformat_minor": 2
}
