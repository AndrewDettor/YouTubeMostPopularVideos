{
 "cells": [
  {
   "cell_type": "markdown",
   "metadata": {},
   "source": [
    "# [YouTube Data API v3 reference](https://developers.google.com/youtube/v3/docs)\n",
    "***\n",
    "# Imports"
   ]
  },
  {
   "cell_type": "code",
   "execution_count": 130,
   "metadata": {},
   "outputs": [],
   "source": [
    "import os\n",
    "from dotenv import load_dotenv\n",
    "import requests\n",
    "from datetime import datetime, timezone\n",
    "import pandas as pd\n",
    "import numpy as np\n",
    "import math"
   ]
  },
  {
   "cell_type": "markdown",
   "metadata": {},
   "source": [
    "***\n",
    "# Get API key"
   ]
  },
  {
   "cell_type": "code",
   "execution_count": 89,
   "metadata": {},
   "outputs": [
    {
     "data": {
      "text/plain": [
       "True"
      ]
     },
     "execution_count": 89,
     "metadata": {},
     "output_type": "execute_result"
    }
   ],
   "source": [
    "# Load environment variables from .env file\n",
    "load_dotenv(\"yt_api_key.env\")"
   ]
  },
  {
   "cell_type": "code",
   "execution_count": 90,
   "metadata": {},
   "outputs": [],
   "source": [
    "api_key = os.getenv(\"API_KEY\")"
   ]
  },
  {
   "cell_type": "markdown",
   "metadata": {},
   "source": [
    "***\n",
    "# Most popular videos\n",
    "## Extract\n",
    "\n",
    "API limits 200 videos per call across 4 pages."
   ]
  },
  {
   "cell_type": "code",
   "execution_count": null,
   "metadata": {},
   "outputs": [],
   "source": [
    "videos_api_url = \"https://www.googleapis.com/youtube/v3/videos\""
   ]
  },
  {
   "cell_type": "code",
   "execution_count": 91,
   "metadata": {},
   "outputs": [],
   "source": [
    "def parse_video_json(video):\n",
    "\n",
    "    video_id = video[\"id\"]\n",
    "\n",
    "    # snippet\n",
    "    publish_datetime = video[\"snippet\"][\"publishedAt\"]\n",
    "    channel_id = video[\"snippet\"][\"channelId\"]\n",
    "    video_title = video[\"snippet\"][\"title\"]\n",
    "    video_description = video[\"snippet\"][\"description\"]\n",
    "    channel_title = video[\"snippet\"][\"channelTitle\"]\n",
    "    num_tags = len(video[\"snippet\"].get(\"tags\", [])) # can be null\n",
    "    category_id = video[\"snippet\"][\"categoryId\"]\n",
    "\n",
    "    # contentDetails\n",
    "    duration = video[\"contentDetails\"][\"duration\"]\n",
    "    licensed_content = video[\"contentDetails\"][\"licensedContent\"]\n",
    "\n",
    "    # status\n",
    "    made_for_kids = video[\"status\"][\"madeForKids\"]\n",
    "\n",
    "    # statistics\n",
    "    num_views = video[\"statistics\"][\"viewCount\"]\n",
    "    num_likes = video[\"statistics\"].get(\"likeCount\", None) # can be null\n",
    "    num_comments = video[\"statistics\"].get(\"commentCount\", None) # can be null\n",
    "\n",
    "    return [video_id, \n",
    "            publish_datetime, \n",
    "            channel_id, \n",
    "            video_title,\n",
    "            video_description,\n",
    "            channel_title,\n",
    "            num_tags,\n",
    "            category_id, \n",
    "            duration, \n",
    "            licensed_content, \n",
    "            made_for_kids, \n",
    "            num_views, \n",
    "            num_likes, \n",
    "            num_comments]    "
   ]
  },
  {
   "cell_type": "code",
   "execution_count": 92,
   "metadata": {},
   "outputs": [
    {
     "data": {
      "text/html": [
       "<div>\n",
       "<style scoped>\n",
       "    .dataframe tbody tr th:only-of-type {\n",
       "        vertical-align: middle;\n",
       "    }\n",
       "\n",
       "    .dataframe tbody tr th {\n",
       "        vertical-align: top;\n",
       "    }\n",
       "\n",
       "    .dataframe thead th {\n",
       "        text-align: right;\n",
       "    }\n",
       "</style>\n",
       "<table border=\"1\" class=\"dataframe\">\n",
       "  <thead>\n",
       "    <tr style=\"text-align: right;\">\n",
       "      <th></th>\n",
       "      <th>request_datetime</th>\n",
       "      <th>video_id</th>\n",
       "      <th>publish_datetime</th>\n",
       "      <th>channel_id</th>\n",
       "      <th>video_title</th>\n",
       "      <th>video_description</th>\n",
       "      <th>channel_title</th>\n",
       "      <th>num_tags</th>\n",
       "      <th>category_id</th>\n",
       "      <th>duration</th>\n",
       "      <th>licensed_content</th>\n",
       "      <th>made_for_kids</th>\n",
       "      <th>num_views</th>\n",
       "      <th>num_likes</th>\n",
       "      <th>num_comments</th>\n",
       "    </tr>\n",
       "  </thead>\n",
       "  <tbody>\n",
       "  </tbody>\n",
       "</table>\n",
       "</div>"
      ],
      "text/plain": [
       "Empty DataFrame\n",
       "Columns: [request_datetime, video_id, publish_datetime, channel_id, video_title, video_description, channel_title, num_tags, category_id, duration, licensed_content, made_for_kids, num_views, num_likes, num_comments]\n",
       "Index: []"
      ]
     },
     "execution_count": 92,
     "metadata": {},
     "output_type": "execute_result"
    }
   ],
   "source": [
    "video_df = pd.DataFrame(columns=[\"request_datetime\", \n",
    "                                 \"channel_id\", \n",
    "                                 \"publish_datetime\", \n",
    "                                 \"channel_id\",\n",
    "                                 \"channel_title\",\n",
    "                                 \"channel_description\",\n",
    "                                 \"channel_title\",\n",
    "                                 \"num_tags\", \n",
    "                                 \"category_id\",  \n",
    "                                 \"duration\", \n",
    "                                 \"licensed_content\", \n",
    "                                 \"made_for_kids\", \n",
    "                                 \"num_views\", \n",
    "                                 \"num_likes\", \n",
    "                                 \"num_comments\"])\n",
    "video_df"
   ]
  },
  {
   "cell_type": "code",
   "execution_count": null,
   "metadata": {},
   "outputs": [],
   "source": [
    "pageToken = \"\"\n",
    "\n",
    "while pageToken is not None:\n",
    "    params = {\n",
    "        \"key\": api_key,\n",
    "        \"part\": \"id, snippet, contentDetails, status, statistics\",\n",
    "        \"chart\": \"mostPopular\",\n",
    "        \"hl\": \"en\",\n",
    "        \"regionCode\": \"US\",\n",
    "        \"maxResults\": 50,\n",
    "        \"pageToken\": pageToken\n",
    "    }\n",
    "    \n",
    "    request_datetime = datetime.now(timezone.utc) # YT API uses UTC timezone\n",
    "    response = requests.get(videos_api_url, params=params)\n",
    "\n",
    "    if response.status_code == 200:\n",
    "        response_json = response.json()\n",
    "\n",
    "        for video in response_json[\"items\"]:\n",
    "            # add video details and datetime of request to end of video dataframe\n",
    "            video_df.loc[len(video_df)] = [request_datetime] + parse_video_json(video)\n",
    "\n",
    "        # get nextPageToken with null safety\n",
    "        pageToken = response_json.get(\"nextPageToken\", None)\n",
    "\n",
    "    else:\n",
    "        print(f\"response.status_code = {response.status_code}\")\n",
    "        pageToken = None\n",
    "    "
   ]
  },
  {
   "cell_type": "code",
   "execution_count": 94,
   "metadata": {},
   "outputs": [
    {
     "data": {
      "text/html": [
       "<div>\n",
       "<style scoped>\n",
       "    .dataframe tbody tr th:only-of-type {\n",
       "        vertical-align: middle;\n",
       "    }\n",
       "\n",
       "    .dataframe tbody tr th {\n",
       "        vertical-align: top;\n",
       "    }\n",
       "\n",
       "    .dataframe thead th {\n",
       "        text-align: right;\n",
       "    }\n",
       "</style>\n",
       "<table border=\"1\" class=\"dataframe\">\n",
       "  <thead>\n",
       "    <tr style=\"text-align: right;\">\n",
       "      <th></th>\n",
       "      <th>request_datetime</th>\n",
       "      <th>video_id</th>\n",
       "      <th>publish_datetime</th>\n",
       "      <th>channel_id</th>\n",
       "      <th>video_title</th>\n",
       "      <th>video_description</th>\n",
       "      <th>channel_title</th>\n",
       "      <th>num_tags</th>\n",
       "      <th>category_id</th>\n",
       "      <th>duration</th>\n",
       "      <th>licensed_content</th>\n",
       "      <th>made_for_kids</th>\n",
       "      <th>num_views</th>\n",
       "      <th>num_likes</th>\n",
       "      <th>num_comments</th>\n",
       "    </tr>\n",
       "  </thead>\n",
       "  <tbody>\n",
       "    <tr>\n",
       "      <th>0</th>\n",
       "      <td>2024-04-23 20:19:25.669312+00:00</td>\n",
       "      <td>cen0rBKLuYE</td>\n",
       "      <td>2024-04-22T12:55:17Z</td>\n",
       "      <td>UCA3-nIYWu4PTWkb6NwhEpzg</td>\n",
       "      <td>Deadpool &amp; Wolverine | Trailer</td>\n",
       "      <td>Found the guy who killed Bambi’s mom. #Deadpoo...</td>\n",
       "      <td>Ryan Reynolds</td>\n",
       "      <td>11</td>\n",
       "      <td>24</td>\n",
       "      <td>PT2M39S</td>\n",
       "      <td>True</td>\n",
       "      <td>False</td>\n",
       "      <td>22370042</td>\n",
       "      <td>1211589</td>\n",
       "      <td>51681</td>\n",
       "    </tr>\n",
       "    <tr>\n",
       "      <th>1</th>\n",
       "      <td>2024-04-23 20:19:25.669312+00:00</td>\n",
       "      <td>hN6C7cDNSQo</td>\n",
       "      <td>2024-04-23T05:12:59Z</td>\n",
       "      <td>UCU7iRrk3xfpUk0R6VdyC1Ow</td>\n",
       "      <td>Inside the NBA Reacts To Jamal Murray's Game-W...</td>\n",
       "      <td>Watch highlights from Inside the NBA with Shaq...</td>\n",
       "      <td>NBA on TNT</td>\n",
       "      <td>19</td>\n",
       "      <td>17</td>\n",
       "      <td>PT10M52S</td>\n",
       "      <td>True</td>\n",
       "      <td>False</td>\n",
       "      <td>921566</td>\n",
       "      <td>12960</td>\n",
       "      <td>3174</td>\n",
       "    </tr>\n",
       "    <tr>\n",
       "      <th>2</th>\n",
       "      <td>2024-04-23 20:19:25.669312+00:00</td>\n",
       "      <td>U6UpFiaD7Po</td>\n",
       "      <td>2024-04-23T04:46:26Z</td>\n",
       "      <td>UCWJ2lWNubArHWmf3FIHbfcQ</td>\n",
       "      <td>#7 LAKERS at #2 NUGGETS | FULL GAME 2 HIGHLIGH...</td>\n",
       "      <td>Never miss a moment with the latest news, tren...</td>\n",
       "      <td>NBA</td>\n",
       "      <td>4</td>\n",
       "      <td>17</td>\n",
       "      <td>PT9M59S</td>\n",
       "      <td>True</td>\n",
       "      <td>False</td>\n",
       "      <td>1588798</td>\n",
       "      <td>20587</td>\n",
       "      <td>5289</td>\n",
       "    </tr>\n",
       "    <tr>\n",
       "      <th>3</th>\n",
       "      <td>2024-04-23 20:19:25.669312+00:00</td>\n",
       "      <td>3iFYULNTznI</td>\n",
       "      <td>2024-04-22T17:20:37Z</td>\n",
       "      <td>UCircJf-FlToBNjuy9xG-i5A</td>\n",
       "      <td>An Update</td>\n",
       "      <td></td>\n",
       "      <td>Watcher</td>\n",
       "      <td>0</td>\n",
       "      <td>24</td>\n",
       "      <td>PT3M40S</td>\n",
       "      <td>False</td>\n",
       "      <td>False</td>\n",
       "      <td>1305959</td>\n",
       "      <td>98372</td>\n",
       "      <td>28692</td>\n",
       "    </tr>\n",
       "    <tr>\n",
       "      <th>4</th>\n",
       "      <td>2024-04-23 20:19:25.669312+00:00</td>\n",
       "      <td>lPuGVHsTMn0</td>\n",
       "      <td>2024-04-21T08:08:55Z</td>\n",
       "      <td>UCurvRE5fGcdUgCYWgh-BDsg</td>\n",
       "      <td>THREE KNOCKDOWNS | Devin Haney vs. Ryan Garcia...</td>\n",
       "      <td>April 20, 2024 -- Devin Haney vs. Ryan Garcia ...</td>\n",
       "      <td>DAZN Boxing</td>\n",
       "      <td>12</td>\n",
       "      <td>17</td>\n",
       "      <td>PT11M25S</td>\n",
       "      <td>True</td>\n",
       "      <td>False</td>\n",
       "      <td>10107261</td>\n",
       "      <td>164296</td>\n",
       "      <td>24835</td>\n",
       "    </tr>\n",
       "    <tr>\n",
       "      <th>...</th>\n",
       "      <td>...</td>\n",
       "      <td>...</td>\n",
       "      <td>...</td>\n",
       "      <td>...</td>\n",
       "      <td>...</td>\n",
       "      <td>...</td>\n",
       "      <td>...</td>\n",
       "      <td>...</td>\n",
       "      <td>...</td>\n",
       "      <td>...</td>\n",
       "      <td>...</td>\n",
       "      <td>...</td>\n",
       "      <td>...</td>\n",
       "      <td>...</td>\n",
       "      <td>...</td>\n",
       "    </tr>\n",
       "    <tr>\n",
       "      <th>195</th>\n",
       "      <td>2024-04-23 20:19:27.364790+00:00</td>\n",
       "      <td>D2eNL_CrclY</td>\n",
       "      <td>2024-04-18T15:00:12Z</td>\n",
       "      <td>UC0ZV6M2THA81QT9hrVWJG3A</td>\n",
       "      <td>Apex Legends: Urban Assault Collection Event T...</td>\n",
       "      <td>Watch Newcastle and Wraith give you the play-b...</td>\n",
       "      <td>Apex Legends</td>\n",
       "      <td>27</td>\n",
       "      <td>20</td>\n",
       "      <td>PT1M29S</td>\n",
       "      <td>True</td>\n",
       "      <td>False</td>\n",
       "      <td>381754</td>\n",
       "      <td>11286</td>\n",
       "      <td>893</td>\n",
       "    </tr>\n",
       "    <tr>\n",
       "      <th>196</th>\n",
       "      <td>2024-04-23 20:19:27.364790+00:00</td>\n",
       "      <td>8UxRQOSFsuc</td>\n",
       "      <td>2024-04-17T20:15:00Z</td>\n",
       "      <td>UCxcTeAKWJca6XyJ37_ZoKIQ</td>\n",
       "      <td>Caitlin Clark Joins The Pat McAfee Show After ...</td>\n",
       "      <td>Welcome to The Pat McAfee Show LIVE from Noon-...</td>\n",
       "      <td>The Pat McAfee Show</td>\n",
       "      <td>26</td>\n",
       "      <td>17</td>\n",
       "      <td>PT19M45S</td>\n",
       "      <td>True</td>\n",
       "      <td>False</td>\n",
       "      <td>827716</td>\n",
       "      <td>17289</td>\n",
       "      <td>1453</td>\n",
       "    </tr>\n",
       "    <tr>\n",
       "      <th>197</th>\n",
       "      <td>2024-04-23 20:19:27.364790+00:00</td>\n",
       "      <td>3kurrR9K8cc</td>\n",
       "      <td>2024-04-18T11:00:03Z</td>\n",
       "      <td>UCgUvk6jVaf-1uKOqG8XNcaQ</td>\n",
       "      <td>2025 Toyota Camry | The Forever Car Done Right</td>\n",
       "      <td>We do a first drive review on the new 2025 Toy...</td>\n",
       "      <td>savagegeese</td>\n",
       "      <td>37</td>\n",
       "      <td>2</td>\n",
       "      <td>PT17M6S</td>\n",
       "      <td>True</td>\n",
       "      <td>False</td>\n",
       "      <td>291779</td>\n",
       "      <td>8747</td>\n",
       "      <td>1539</td>\n",
       "    </tr>\n",
       "    <tr>\n",
       "      <th>198</th>\n",
       "      <td>2024-04-23 20:19:27.364790+00:00</td>\n",
       "      <td>FYQHXZj4JB0</td>\n",
       "      <td>2024-04-18T01:33:02Z</td>\n",
       "      <td>UCsQBsZJltmLzlsJNG7HevBg</td>\n",
       "      <td>Tyler, The Creator - RUNNING OUT OF TIME (feat...</td>\n",
       "      <td></td>\n",
       "      <td>Tyler, The Creator</td>\n",
       "      <td>0</td>\n",
       "      <td>2</td>\n",
       "      <td>PT4M</td>\n",
       "      <td>False</td>\n",
       "      <td>False</td>\n",
       "      <td>408867</td>\n",
       "      <td>39647</td>\n",
       "      <td>1622</td>\n",
       "    </tr>\n",
       "    <tr>\n",
       "      <th>199</th>\n",
       "      <td>2024-04-23 20:19:27.364790+00:00</td>\n",
       "      <td>CPyk69APB28</td>\n",
       "      <td>2024-04-13T21:38:28Z</td>\n",
       "      <td>UC16niRr50-MSBwiO3YDb3RA</td>\n",
       "      <td>BREAKING: Iran launches “mass drone and missil...</td>\n",
       "      <td>In a dramatic escalation of the crisis in the ...</td>\n",
       "      <td>BBC News</td>\n",
       "      <td>66</td>\n",
       "      <td>25</td>\n",
       "      <td>PT4M38S</td>\n",
       "      <td>True</td>\n",
       "      <td>False</td>\n",
       "      <td>2428495</td>\n",
       "      <td>22194</td>\n",
       "      <td>10447</td>\n",
       "    </tr>\n",
       "  </tbody>\n",
       "</table>\n",
       "<p>200 rows × 15 columns</p>\n",
       "</div>"
      ],
      "text/plain": [
       "                    request_datetime     video_id      publish_datetime  \\\n",
       "0   2024-04-23 20:19:25.669312+00:00  cen0rBKLuYE  2024-04-22T12:55:17Z   \n",
       "1   2024-04-23 20:19:25.669312+00:00  hN6C7cDNSQo  2024-04-23T05:12:59Z   \n",
       "2   2024-04-23 20:19:25.669312+00:00  U6UpFiaD7Po  2024-04-23T04:46:26Z   \n",
       "3   2024-04-23 20:19:25.669312+00:00  3iFYULNTznI  2024-04-22T17:20:37Z   \n",
       "4   2024-04-23 20:19:25.669312+00:00  lPuGVHsTMn0  2024-04-21T08:08:55Z   \n",
       "..                               ...          ...                   ...   \n",
       "195 2024-04-23 20:19:27.364790+00:00  D2eNL_CrclY  2024-04-18T15:00:12Z   \n",
       "196 2024-04-23 20:19:27.364790+00:00  8UxRQOSFsuc  2024-04-17T20:15:00Z   \n",
       "197 2024-04-23 20:19:27.364790+00:00  3kurrR9K8cc  2024-04-18T11:00:03Z   \n",
       "198 2024-04-23 20:19:27.364790+00:00  FYQHXZj4JB0  2024-04-18T01:33:02Z   \n",
       "199 2024-04-23 20:19:27.364790+00:00  CPyk69APB28  2024-04-13T21:38:28Z   \n",
       "\n",
       "                   channel_id  \\\n",
       "0    UCA3-nIYWu4PTWkb6NwhEpzg   \n",
       "1    UCU7iRrk3xfpUk0R6VdyC1Ow   \n",
       "2    UCWJ2lWNubArHWmf3FIHbfcQ   \n",
       "3    UCircJf-FlToBNjuy9xG-i5A   \n",
       "4    UCurvRE5fGcdUgCYWgh-BDsg   \n",
       "..                        ...   \n",
       "195  UC0ZV6M2THA81QT9hrVWJG3A   \n",
       "196  UCxcTeAKWJca6XyJ37_ZoKIQ   \n",
       "197  UCgUvk6jVaf-1uKOqG8XNcaQ   \n",
       "198  UCsQBsZJltmLzlsJNG7HevBg   \n",
       "199  UC16niRr50-MSBwiO3YDb3RA   \n",
       "\n",
       "                                           video_title  \\\n",
       "0                       Deadpool & Wolverine | Trailer   \n",
       "1    Inside the NBA Reacts To Jamal Murray's Game-W...   \n",
       "2    #7 LAKERS at #2 NUGGETS | FULL GAME 2 HIGHLIGH...   \n",
       "3                                            An Update   \n",
       "4    THREE KNOCKDOWNS | Devin Haney vs. Ryan Garcia...   \n",
       "..                                                 ...   \n",
       "195  Apex Legends: Urban Assault Collection Event T...   \n",
       "196  Caitlin Clark Joins The Pat McAfee Show After ...   \n",
       "197     2025 Toyota Camry | The Forever Car Done Right   \n",
       "198  Tyler, The Creator - RUNNING OUT OF TIME (feat...   \n",
       "199  BREAKING: Iran launches “mass drone and missil...   \n",
       "\n",
       "                                     video_description        channel_title  \\\n",
       "0    Found the guy who killed Bambi’s mom. #Deadpoo...        Ryan Reynolds   \n",
       "1    Watch highlights from Inside the NBA with Shaq...           NBA on TNT   \n",
       "2    Never miss a moment with the latest news, tren...                  NBA   \n",
       "3                                                                   Watcher   \n",
       "4    April 20, 2024 -- Devin Haney vs. Ryan Garcia ...          DAZN Boxing   \n",
       "..                                                 ...                  ...   \n",
       "195  Watch Newcastle and Wraith give you the play-b...         Apex Legends   \n",
       "196  Welcome to The Pat McAfee Show LIVE from Noon-...  The Pat McAfee Show   \n",
       "197  We do a first drive review on the new 2025 Toy...          savagegeese   \n",
       "198                                                      Tyler, The Creator   \n",
       "199  In a dramatic escalation of the crisis in the ...             BBC News   \n",
       "\n",
       "     num_tags category_id  duration  licensed_content  made_for_kids  \\\n",
       "0          11          24   PT2M39S              True          False   \n",
       "1          19          17  PT10M52S              True          False   \n",
       "2           4          17   PT9M59S              True          False   \n",
       "3           0          24   PT3M40S             False          False   \n",
       "4          12          17  PT11M25S              True          False   \n",
       "..        ...         ...       ...               ...            ...   \n",
       "195        27          20   PT1M29S              True          False   \n",
       "196        26          17  PT19M45S              True          False   \n",
       "197        37           2   PT17M6S              True          False   \n",
       "198         0           2      PT4M             False          False   \n",
       "199        66          25   PT4M38S              True          False   \n",
       "\n",
       "    num_views num_likes num_comments  \n",
       "0    22370042   1211589        51681  \n",
       "1      921566     12960         3174  \n",
       "2     1588798     20587         5289  \n",
       "3     1305959     98372        28692  \n",
       "4    10107261    164296        24835  \n",
       "..        ...       ...          ...  \n",
       "195    381754     11286          893  \n",
       "196    827716     17289         1453  \n",
       "197    291779      8747         1539  \n",
       "198    408867     39647         1622  \n",
       "199   2428495     22194        10447  \n",
       "\n",
       "[200 rows x 15 columns]"
      ]
     },
     "execution_count": 94,
     "metadata": {},
     "output_type": "execute_result"
    }
   ],
   "source": [
    "video_df"
   ]
  },
  {
   "cell_type": "code",
   "execution_count": 95,
   "metadata": {},
   "outputs": [
    {
     "data": {
      "text/plain": [
       "request_datetime     0\n",
       "video_id             0\n",
       "publish_datetime     0\n",
       "channel_id           0\n",
       "video_title          0\n",
       "video_description    0\n",
       "channel_title        0\n",
       "num_tags             0\n",
       "category_id          0\n",
       "duration             0\n",
       "licensed_content     0\n",
       "made_for_kids        0\n",
       "num_views            0\n",
       "num_likes            0\n",
       "num_comments         1\n",
       "dtype: int64"
      ]
     },
     "execution_count": 95,
     "metadata": {},
     "output_type": "execute_result"
    }
   ],
   "source": [
    "video_df.isna().sum()"
   ]
  },
  {
   "cell_type": "markdown",
   "metadata": {},
   "source": [
    "## Transform"
   ]
  },
  {
   "cell_type": "code",
   "execution_count": 96,
   "metadata": {},
   "outputs": [
    {
     "data": {
      "text/plain": [
       "request_datetime     datetime64[ns, UTC]\n",
       "video_id                          object\n",
       "publish_datetime                  object\n",
       "channel_id                        object\n",
       "video_title                       object\n",
       "video_description                 object\n",
       "channel_title                     object\n",
       "num_tags                           int64\n",
       "category_id                       object\n",
       "duration                          object\n",
       "licensed_content                    bool\n",
       "made_for_kids                       bool\n",
       "num_views                         object\n",
       "num_likes                         object\n",
       "num_comments                      object\n",
       "dtype: object"
      ]
     },
     "execution_count": 96,
     "metadata": {},
     "output_type": "execute_result"
    }
   ],
   "source": [
    "# fix datatypes\n",
    "video_df.dtypes"
   ]
  },
  {
   "cell_type": "code",
   "execution_count": 97,
   "metadata": {},
   "outputs": [
    {
     "data": {
      "text/html": [
       "<div>\n",
       "<style scoped>\n",
       "    .dataframe tbody tr th:only-of-type {\n",
       "        vertical-align: middle;\n",
       "    }\n",
       "\n",
       "    .dataframe tbody tr th {\n",
       "        vertical-align: top;\n",
       "    }\n",
       "\n",
       "    .dataframe thead th {\n",
       "        text-align: right;\n",
       "    }\n",
       "</style>\n",
       "<table border=\"1\" class=\"dataframe\">\n",
       "  <thead>\n",
       "    <tr style=\"text-align: right;\">\n",
       "      <th></th>\n",
       "      <th>request_datetime</th>\n",
       "      <th>video_id</th>\n",
       "      <th>publish_datetime</th>\n",
       "      <th>channel_id</th>\n",
       "      <th>video_title</th>\n",
       "      <th>video_description</th>\n",
       "      <th>channel_title</th>\n",
       "      <th>num_tags</th>\n",
       "      <th>category_id</th>\n",
       "      <th>duration</th>\n",
       "      <th>licensed_content</th>\n",
       "      <th>made_for_kids</th>\n",
       "      <th>num_views</th>\n",
       "      <th>num_likes</th>\n",
       "      <th>num_comments</th>\n",
       "    </tr>\n",
       "  </thead>\n",
       "  <tbody>\n",
       "    <tr>\n",
       "      <th>45</th>\n",
       "      <td>2024-04-23 20:19:25.669312+00:00</td>\n",
       "      <td>a6CtwgwuAcE</td>\n",
       "      <td>2024-04-22T14:26:50Z</td>\n",
       "      <td>UCs95gwav7frv5HTVqAGa7uQ</td>\n",
       "      <td>Deadpool &amp; Wolverine | Official Trailer | In T...</td>\n",
       "      <td>Deadpool &amp; Wolverine | Official Trailer | In T...</td>\n",
       "      <td>Tyrone Magnus</td>\n",
       "      <td>25</td>\n",
       "      <td>24</td>\n",
       "      <td>PT5M3S</td>\n",
       "      <td>True</td>\n",
       "      <td>False</td>\n",
       "      <td>155123</td>\n",
       "      <td>9371</td>\n",
       "      <td>439</td>\n",
       "    </tr>\n",
       "  </tbody>\n",
       "</table>\n",
       "</div>"
      ],
      "text/plain": [
       "                   request_datetime     video_id      publish_datetime  \\\n",
       "45 2024-04-23 20:19:25.669312+00:00  a6CtwgwuAcE  2024-04-22T14:26:50Z   \n",
       "\n",
       "                  channel_id  \\\n",
       "45  UCs95gwav7frv5HTVqAGa7uQ   \n",
       "\n",
       "                                          video_title  \\\n",
       "45  Deadpool & Wolverine | Official Trailer | In T...   \n",
       "\n",
       "                                    video_description  channel_title  \\\n",
       "45  Deadpool & Wolverine | Official Trailer | In T...  Tyrone Magnus   \n",
       "\n",
       "    num_tags category_id duration  licensed_content  made_for_kids num_views  \\\n",
       "45        25          24   PT5M3S              True          False    155123   \n",
       "\n",
       "   num_likes num_comments  \n",
       "45      9371          439  "
      ]
     },
     "execution_count": 97,
     "metadata": {},
     "output_type": "execute_result"
    }
   ],
   "source": [
    "video_df.sample(1)"
   ]
  },
  {
   "cell_type": "markdown",
   "metadata": {},
   "source": [
    "### Turn publish_datetime into datetime"
   ]
  },
  {
   "cell_type": "code",
   "execution_count": 98,
   "metadata": {},
   "outputs": [],
   "source": [
    "# turn publish_datetime into datetime\n",
    "video_df[\"publish_datetime\"] = pd.to_datetime(video_df[\"publish_datetime\"], format=\"ISO8601\")"
   ]
  },
  {
   "cell_type": "markdown",
   "metadata": {},
   "source": [
    "### Parse duration in minutes from duration"
   ]
  },
  {
   "cell_type": "code",
   "execution_count": 99,
   "metadata": {},
   "outputs": [
    {
     "data": {
      "text/plain": [
       "0       PT2M39S\n",
       "1      PT10M52S\n",
       "2       PT9M59S\n",
       "3       PT3M40S\n",
       "4      PT11M25S\n",
       "         ...   \n",
       "195     PT1M29S\n",
       "196    PT19M45S\n",
       "197     PT17M6S\n",
       "198        PT4M\n",
       "199     PT4M38S\n",
       "Name: duration, Length: 200, dtype: object"
      ]
     },
     "execution_count": 99,
     "metadata": {},
     "output_type": "execute_result"
    }
   ],
   "source": [
    "video_df[\"duration\"]"
   ]
  },
  {
   "cell_type": "code",
   "execution_count": 100,
   "metadata": {},
   "outputs": [],
   "source": [
    "video_df[\"duration\"] = pd.to_timedelta(video_df[\"duration\"]).apply(lambda x: x.seconds)\n",
    "video_df.rename(columns={\"duration\": \"duration_seconds\"}, inplace=True)"
   ]
  },
  {
   "cell_type": "markdown",
   "metadata": {},
   "source": [
    "### Turn num_view, num_likes, and num_comments into ints"
   ]
  },
  {
   "cell_type": "code",
   "execution_count": 101,
   "metadata": {},
   "outputs": [
    {
     "data": {
      "text/plain": [
       "num_views       0\n",
       "num_likes       0\n",
       "num_comments    1\n",
       "dtype: int64"
      ]
     },
     "execution_count": 101,
     "metadata": {},
     "output_type": "execute_result"
    }
   ],
   "source": [
    "video_df[[\"num_views\", \"num_likes\", \"num_comments\"]].isna().sum()"
   ]
  },
  {
   "cell_type": "code",
   "execution_count": 102,
   "metadata": {},
   "outputs": [
    {
     "data": {
      "text/plain": [
       "num_views       0\n",
       "num_likes       0\n",
       "num_comments    0\n",
       "dtype: int64"
      ]
     },
     "execution_count": 102,
     "metadata": {},
     "output_type": "execute_result"
    }
   ],
   "source": [
    "video_df[[\"num_views\", \"num_likes\", \"num_comments\"]] = video_df[[\"num_views\", \"num_likes\", \"num_comments\"]].fillna(0)\n",
    "video_df[[\"num_views\", \"num_likes\", \"num_comments\"]].isna().sum()"
   ]
  },
  {
   "cell_type": "code",
   "execution_count": 103,
   "metadata": {},
   "outputs": [],
   "source": [
    "video_df[[\"num_views\", \"num_likes\", \"num_comments\"]] = video_df[[\"num_views\", \"num_likes\", \"num_comments\"]].astype(dtype=\"int\")"
   ]
  },
  {
   "cell_type": "code",
   "execution_count": 104,
   "metadata": {},
   "outputs": [
    {
     "data": {
      "text/plain": [
       "request_datetime     datetime64[ns, UTC]\n",
       "video_id                          object\n",
       "publish_datetime     datetime64[ns, UTC]\n",
       "channel_id                        object\n",
       "video_title                       object\n",
       "video_description                 object\n",
       "channel_title                     object\n",
       "num_tags                           int64\n",
       "category_id                       object\n",
       "duration_seconds                   int64\n",
       "licensed_content                    bool\n",
       "made_for_kids                       bool\n",
       "num_views                          int64\n",
       "num_likes                          int64\n",
       "num_comments                       int64\n",
       "dtype: object"
      ]
     },
     "execution_count": 104,
     "metadata": {},
     "output_type": "execute_result"
    }
   ],
   "source": [
    "video_df.dtypes"
   ]
  },
  {
   "cell_type": "markdown",
   "metadata": {},
   "source": [
    "## Load"
   ]
  },
  {
   "cell_type": "markdown",
   "metadata": {},
   "source": [
    "***\n",
    "# Channel metadata from top 200 videos\n",
    "## Extract\n",
    "API limits 50 channels per call with no pages."
   ]
  },
  {
   "cell_type": "code",
   "execution_count": 107,
   "metadata": {},
   "outputs": [
    {
     "data": {
      "text/plain": [
       "180"
      ]
     },
     "execution_count": 107,
     "metadata": {},
     "output_type": "execute_result"
    }
   ],
   "source": [
    "unique_channel_ids = video_df[\"channel_id\"].unique()\n",
    "len(unique_channel_ids)"
   ]
  },
  {
   "cell_type": "code",
   "execution_count": 108,
   "metadata": {},
   "outputs": [],
   "source": [
    "channels_api_url = \"https://www.googleapis.com/youtube/v3/channels\""
   ]
  },
  {
   "cell_type": "code",
   "execution_count": 109,
   "metadata": {},
   "outputs": [],
   "source": [
    "def parse_channel_json(channel):\n",
    "    channel_id = channel[\"id\"]\n",
    "\n",
    "    # snippet\n",
    "    channel_created_datetime = channel[\"snippet\"][\"publishedAt\"]\n",
    "\n",
    "    # statistics\n",
    "    channel_total_views = channel[\"statistics\"].get(\"viewCount\", None)\n",
    "    channel_num_subscribers = channel[\"statistics\"].get(\"subscriberCount\", None)\n",
    "    channel_num_videos = channel[\"statistics\"].get(\"videoCount\", None)\n",
    "\n",
    "    return [channel_id, \n",
    "            channel_created_datetime, \n",
    "            channel_total_views, \n",
    "            channel_num_subscribers,\n",
    "            channel_num_videos]    "
   ]
  },
  {
   "cell_type": "code",
   "execution_count": 132,
   "metadata": {},
   "outputs": [
    {
     "data": {
      "text/plain": [
       "30"
      ]
     },
     "execution_count": 132,
     "metadata": {},
     "output_type": "execute_result"
    }
   ],
   "source": [
    "len(unique_channel_ids) % 50"
   ]
  },
  {
   "cell_type": "code",
   "execution_count": 136,
   "metadata": {},
   "outputs": [
    {
     "data": {
      "text/plain": [
       "[50, 50, 50, 30]"
      ]
     },
     "execution_count": 136,
     "metadata": {},
     "output_type": "execute_result"
    }
   ],
   "source": [
    "# https://stackoverflow.com/questions/312443/how-do-i-split-a-list-into-equally-sized-chunks\n",
    "def chunks(lst, n):\n",
    "    return [lst[i:i + n] for i in range(0, len(lst), n)]\n",
    "\n",
    "channels_chunked = chunks(unique_channel_ids, 50)\n",
    "[len(chunk) for chunk in channels_chunked] # chunks = # API calls"
   ]
  },
  {
   "cell_type": "code",
   "execution_count": 139,
   "metadata": {},
   "outputs": [
    {
     "data": {
      "text/html": [
       "<div>\n",
       "<style scoped>\n",
       "    .dataframe tbody tr th:only-of-type {\n",
       "        vertical-align: middle;\n",
       "    }\n",
       "\n",
       "    .dataframe tbody tr th {\n",
       "        vertical-align: top;\n",
       "    }\n",
       "\n",
       "    .dataframe thead th {\n",
       "        text-align: right;\n",
       "    }\n",
       "</style>\n",
       "<table border=\"1\" class=\"dataframe\">\n",
       "  <thead>\n",
       "    <tr style=\"text-align: right;\">\n",
       "      <th></th>\n",
       "      <th>request_datetime</th>\n",
       "      <th>id</th>\n",
       "      <th>created_datetime</th>\n",
       "      <th>total_views</th>\n",
       "      <th>num_subscribers</th>\n",
       "      <th>num_videos</th>\n",
       "    </tr>\n",
       "  </thead>\n",
       "  <tbody>\n",
       "  </tbody>\n",
       "</table>\n",
       "</div>"
      ],
      "text/plain": [
       "Empty DataFrame\n",
       "Columns: [request_datetime, id, created_datetime, total_views, num_subscribers, num_videos]\n",
       "Index: []"
      ]
     },
     "execution_count": 139,
     "metadata": {},
     "output_type": "execute_result"
    }
   ],
   "source": [
    "channel_df = pd.DataFrame(columns=[\"request_datetime\", \n",
    "                                \"id\", \n",
    "                                \"created_datetime\", \n",
    "                                \"total_views\", \n",
    "                                \"num_subscribers\",\n",
    "                                \"num_videos\"])\n",
    "channel_df"
   ]
  },
  {
   "cell_type": "code",
   "execution_count": 140,
   "metadata": {},
   "outputs": [],
   "source": [
    "for channels in channels_chunked:\n",
    "    params = {\n",
    "        \"key\": api_key,\n",
    "        \"part\": \"id, snippet, statistics\",\n",
    "        \"id\": \", \".join(channels),\n",
    "        \"maxResults\": 50,\n",
    "    }\n",
    "\n",
    "    request_datetime = datetime.now(timezone.utc) # YT API uses UTC timezone\n",
    "    response = requests.get(channels_api_url, params=params)\n",
    "\n",
    "    if response.status_code == 200:\n",
    "        response_json = response.json()\n",
    "\n",
    "        for channel in response_json[\"items\"]:\n",
    "            # add channel details and datetime of request to end of video dataframe\n",
    "            channel_df.loc[len(channel_df)] = [request_datetime] + parse_channel_json(channel)\n",
    "\n",
    "    else:\n",
    "        print(f\"response.status_code = {response.status_code}\")"
   ]
  },
  {
   "cell_type": "code",
   "execution_count": 141,
   "metadata": {},
   "outputs": [
    {
     "data": {
      "text/plain": [
       "(180, 6)"
      ]
     },
     "execution_count": 141,
     "metadata": {},
     "output_type": "execute_result"
    }
   ],
   "source": [
    "channel_df.shape"
   ]
  },
  {
   "cell_type": "markdown",
   "metadata": {},
   "source": [
    "## Transform"
   ]
  },
  {
   "cell_type": "code",
   "execution_count": 142,
   "metadata": {},
   "outputs": [
    {
     "data": {
      "text/plain": [
       "request_datetime    datetime64[ns, UTC]\n",
       "id                               object\n",
       "created_datetime                 object\n",
       "total_views                      object\n",
       "num_subscribers                  object\n",
       "num_videos                       object\n",
       "dtype: object"
      ]
     },
     "execution_count": 142,
     "metadata": {},
     "output_type": "execute_result"
    }
   ],
   "source": [
    "# fix datatypes\n",
    "channel_df.dtypes"
   ]
  },
  {
   "cell_type": "markdown",
   "metadata": {},
   "source": [
    "### Turn created_datetime into datetime"
   ]
  },
  {
   "cell_type": "code",
   "execution_count": 143,
   "metadata": {},
   "outputs": [],
   "source": [
    "channel_df[\"created_datetime\"] = pd.to_datetime(channel_df[\"created_datetime\"], format=\"ISO8601\")"
   ]
  },
  {
   "cell_type": "markdown",
   "metadata": {},
   "source": [
    "### Turn total_views, num_subscribers, num_videos into ints"
   ]
  },
  {
   "cell_type": "code",
   "execution_count": 144,
   "metadata": {},
   "outputs": [
    {
     "data": {
      "text/plain": [
       "total_views        0\n",
       "num_subscribers    0\n",
       "num_videos         0\n",
       "dtype: int64"
      ]
     },
     "execution_count": 144,
     "metadata": {},
     "output_type": "execute_result"
    }
   ],
   "source": [
    "channel_df[[\"total_views\", \"num_subscribers\", \"num_videos\"]].isna().sum()"
   ]
  },
  {
   "cell_type": "code",
   "execution_count": 145,
   "metadata": {},
   "outputs": [
    {
     "data": {
      "text/plain": [
       "total_views        0\n",
       "num_subscribers    0\n",
       "num_videos         0\n",
       "dtype: int64"
      ]
     },
     "execution_count": 145,
     "metadata": {},
     "output_type": "execute_result"
    }
   ],
   "source": [
    "channel_df[[\"total_views\", \"num_subscribers\", \"num_videos\"]] = channel_df[[\"total_views\", \"num_subscribers\", \"num_videos\"]].fillna(0)\n",
    "channel_df[[\"total_views\", \"num_subscribers\", \"num_videos\"]].isna().sum()"
   ]
  },
  {
   "cell_type": "code",
   "execution_count": 148,
   "metadata": {},
   "outputs": [],
   "source": [
    "channel_df[[\"total_views\", \"num_subscribers\", \"num_videos\"]] = channel_df[[\"total_views\", \"num_subscribers\", \"num_videos\"]].astype(dtype=\"int\")"
   ]
  },
  {
   "cell_type": "code",
   "execution_count": 149,
   "metadata": {},
   "outputs": [
    {
     "data": {
      "text/plain": [
       "request_datetime    datetime64[ns, UTC]\n",
       "id                               object\n",
       "created_datetime    datetime64[ns, UTC]\n",
       "total_views                       int64\n",
       "num_subscribers                   int64\n",
       "num_videos                        int64\n",
       "dtype: object"
      ]
     },
     "execution_count": 149,
     "metadata": {},
     "output_type": "execute_result"
    }
   ],
   "source": [
    "channel_df.dtypes"
   ]
  },
  {
   "cell_type": "markdown",
   "metadata": {},
   "source": [
    "## Load"
   ]
  },
  {
   "cell_type": "markdown",
   "metadata": {},
   "source": []
  }
 ],
 "metadata": {
  "kernelspec": {
   "display_name": "Python 3",
   "language": "python",
   "name": "python3"
  },
  "language_info": {
   "codemirror_mode": {
    "name": "ipython",
    "version": 3
   },
   "file_extension": ".py",
   "mimetype": "text/x-python",
   "name": "python",
   "nbconvert_exporter": "python",
   "pygments_lexer": "ipython3",
   "version": "3.11.5"
  }
 },
 "nbformat": 4,
 "nbformat_minor": 2
}
