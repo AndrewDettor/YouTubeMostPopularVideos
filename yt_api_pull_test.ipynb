{
 "cells": [
  {
   "cell_type": "markdown",
   "metadata": {},
   "source": [
    "# [YouTube Data API v3 reference](https://developers.google.com/youtube/v3/docs)\n",
    "***\n",
    "# Imports"
   ]
  },
  {
   "cell_type": "code",
   "execution_count": 1,
   "metadata": {},
   "outputs": [],
   "source": [
    "import os\n",
    "from dotenv import load_dotenv\n",
    "import requests\n",
    "from datetime import datetime, timezone\n",
    "import pandas as pd\n",
    "import numpy as np\n",
    "import math\n",
    "import psycopg2"
   ]
  },
  {
   "cell_type": "code",
   "execution_count": 2,
   "metadata": {},
   "outputs": [
    {
     "data": {
      "text/plain": [
       "datetime.datetime(2024, 4, 29, 17, 42, 38, 248372, tzinfo=datetime.timezone.utc)"
      ]
     },
     "execution_count": 2,
     "metadata": {},
     "output_type": "execute_result"
    }
   ],
   "source": [
    "# assume API calls are made at the same exact time\n",
    "\n",
    "script_timestamp = datetime.now(timezone.utc) # YT API uses UTC timezone\n",
    "script_timestamp"
   ]
  },
  {
   "cell_type": "markdown",
   "metadata": {},
   "source": [
    "***\n",
    "# Get API key and DB password"
   ]
  },
  {
   "cell_type": "code",
   "execution_count": 3,
   "metadata": {},
   "outputs": [
    {
     "data": {
      "text/plain": [
       "True"
      ]
     },
     "execution_count": 3,
     "metadata": {},
     "output_type": "execute_result"
    }
   ],
   "source": [
    "# Load environment variables from .env file\n",
    "load_dotenv(\"environment_variables.env\")"
   ]
  },
  {
   "cell_type": "code",
   "execution_count": 4,
   "metadata": {},
   "outputs": [],
   "source": [
    "api_key = os.getenv(\"API_KEY\")\n",
    "psql_pw = os.getenv(\"PSQL_PW\")"
   ]
  },
  {
   "cell_type": "markdown",
   "metadata": {},
   "source": [
    "***\n",
    "# Database Connection"
   ]
  },
  {
   "cell_type": "code",
   "execution_count": 5,
   "metadata": {},
   "outputs": [],
   "source": [
    "host = \"youtubeviewprediction.cd0c8oow2pnr.us-east-1.rds.amazonaws.com\"\n",
    "port = 5432\n",
    "database = \"postgres\"\n",
    "user = \"postgres\""
   ]
  },
  {
   "cell_type": "code",
   "execution_count": 6,
   "metadata": {},
   "outputs": [
    {
     "name": "stdout",
     "output_type": "stream",
     "text": [
      "You are connected to -  ('PostgreSQL 16.1 on x86_64-pc-linux-gnu, compiled by gcc (GCC) 7.3.1 20180712 (Red Hat 7.3.1-12), 64-bit',) \n",
      "\n"
     ]
    }
   ],
   "source": [
    "try:\n",
    "    # Connect to the PostgreSQL database\n",
    "    connection = psycopg2.connect(\n",
    "        host=host,\n",
    "        port=port,\n",
    "        database=database,\n",
    "        user=user,\n",
    "        password=psql_pw\n",
    "    )\n",
    "\n",
    "    # Create a cursor object using the cursor() method\n",
    "    cursor = connection.cursor()\n",
    "\n",
    "    # Execute a SQL query\n",
    "    cursor.execute(\"SELECT version();\")\n",
    "\n",
    "    # Fetch result\n",
    "    record = cursor.fetchone()\n",
    "    print(\"You are connected to - \", record, \"\\n\")\n",
    "\n",
    "except (Exception, psycopg2.Error) as error:\n",
    "    print(\"Error while connecting to PostgreSQL\", error)"
   ]
  },
  {
   "cell_type": "markdown",
   "metadata": {},
   "source": [
    "***\n",
    "# Most popular videos\n",
    "## Extract\n",
    "\n",
    "API limits 200 videos per call across 4 pages."
   ]
  },
  {
   "cell_type": "code",
   "execution_count": 7,
   "metadata": {},
   "outputs": [],
   "source": [
    "videos_api_url = \"https://www.googleapis.com/youtube/v3/videos\""
   ]
  },
  {
   "cell_type": "code",
   "execution_count": 8,
   "metadata": {},
   "outputs": [],
   "source": [
    "def parse_video_json(video):\n",
    "\n",
    "    video_id = video[\"id\"]\n",
    "\n",
    "    # snippet\n",
    "    publish_datetime = video[\"snippet\"][\"publishedAt\"]\n",
    "    channel_id = video[\"snippet\"][\"channelId\"]\n",
    "    video_title = video[\"snippet\"][\"title\"]\n",
    "    video_description = video[\"snippet\"][\"description\"]\n",
    "    channel_title = video[\"snippet\"][\"channelTitle\"]\n",
    "    num_tags = len(video[\"snippet\"].get(\"tags\", [])) # can be null\n",
    "    category_id = video[\"snippet\"][\"categoryId\"]\n",
    "\n",
    "    # contentDetails\n",
    "    duration = video[\"contentDetails\"][\"duration\"]\n",
    "    licensed_content = video[\"contentDetails\"][\"licensedContent\"]\n",
    "\n",
    "    # status\n",
    "    made_for_kids = video[\"status\"][\"madeForKids\"]\n",
    "\n",
    "    # statistics\n",
    "    num_views = video[\"statistics\"][\"viewCount\"]\n",
    "    num_likes = video[\"statistics\"].get(\"likeCount\", None) # can be null\n",
    "    num_comments = video[\"statistics\"].get(\"commentCount\", None) # can be null\n",
    "\n",
    "    return [video_id, \n",
    "            publish_datetime, \n",
    "            channel_id, \n",
    "            video_title,\n",
    "            video_description,\n",
    "            channel_title,\n",
    "            num_tags,\n",
    "            category_id, \n",
    "            duration, \n",
    "            licensed_content, \n",
    "            made_for_kids, \n",
    "            num_views, \n",
    "            num_likes, \n",
    "            num_comments]    "
   ]
  },
  {
   "cell_type": "code",
   "execution_count": 9,
   "metadata": {},
   "outputs": [
    {
     "data": {
      "text/html": [
       "<div>\n",
       "<style scoped>\n",
       "    .dataframe tbody tr th:only-of-type {\n",
       "        vertical-align: middle;\n",
       "    }\n",
       "\n",
       "    .dataframe tbody tr th {\n",
       "        vertical-align: top;\n",
       "    }\n",
       "\n",
       "    .dataframe thead th {\n",
       "        text-align: right;\n",
       "    }\n",
       "</style>\n",
       "<table border=\"1\" class=\"dataframe\">\n",
       "  <thead>\n",
       "    <tr style=\"text-align: right;\">\n",
       "      <th></th>\n",
       "      <th>script_timestamp</th>\n",
       "      <th>video_id</th>\n",
       "      <th>publish_datetime</th>\n",
       "      <th>channel_id</th>\n",
       "      <th>video_title</th>\n",
       "      <th>video_description</th>\n",
       "      <th>channel_title</th>\n",
       "      <th>num_tags</th>\n",
       "      <th>category_id</th>\n",
       "      <th>duration</th>\n",
       "      <th>licensed_content</th>\n",
       "      <th>made_for_kids</th>\n",
       "      <th>num_views</th>\n",
       "      <th>num_likes</th>\n",
       "      <th>num_comments</th>\n",
       "    </tr>\n",
       "  </thead>\n",
       "  <tbody>\n",
       "  </tbody>\n",
       "</table>\n",
       "</div>"
      ],
      "text/plain": [
       "Empty DataFrame\n",
       "Columns: [script_timestamp, video_id, publish_datetime, channel_id, video_title, video_description, channel_title, num_tags, category_id, duration, licensed_content, made_for_kids, num_views, num_likes, num_comments]\n",
       "Index: []"
      ]
     },
     "execution_count": 9,
     "metadata": {},
     "output_type": "execute_result"
    }
   ],
   "source": [
    "video_df = pd.DataFrame(columns=[\"script_timestamp\", \n",
    "                                 \"video_id\", \n",
    "                                 \"publish_datetime\", \n",
    "                                 \"channel_id\",\n",
    "                                 \"video_title\",\n",
    "                                 \"video_description\",\n",
    "                                 \"channel_title\",\n",
    "                                 \"num_tags\", \n",
    "                                 \"category_id\",  \n",
    "                                 \"duration\", \n",
    "                                 \"licensed_content\", \n",
    "                                 \"made_for_kids\", \n",
    "                                 \"num_views\", \n",
    "                                 \"num_likes\", \n",
    "                                 \"num_comments\"])\n",
    "video_df"
   ]
  },
  {
   "cell_type": "code",
   "execution_count": 10,
   "metadata": {},
   "outputs": [],
   "source": [
    "pageToken = \"\"\n",
    "\n",
    "while pageToken is not None:\n",
    "    params = {\n",
    "        \"key\": api_key,\n",
    "        \"part\": \"id, snippet, contentDetails, status, statistics\",\n",
    "        \"chart\": \"mostPopular\",\n",
    "        \"hl\": \"en\",\n",
    "        \"regionCode\": \"US\",\n",
    "        \"maxResults\": 50,\n",
    "        \"pageToken\": pageToken\n",
    "    }\n",
    "    \n",
    "    response = requests.get(videos_api_url, params=params)\n",
    "\n",
    "    if response.status_code == 200:\n",
    "        response_json = response.json()\n",
    "\n",
    "        for video in response_json[\"items\"]:\n",
    "            # add video details and datetime of request to end of video dataframe\n",
    "            video_df.loc[len(video_df)] = [script_timestamp] + parse_video_json(video)\n",
    "\n",
    "        # get nextPageToken with null safety\n",
    "        pageToken = response_json.get(\"nextPageToken\", None)\n",
    "\n",
    "    else:\n",
    "        print(f\"response.status_code = {response.status_code}\")\n",
    "        pageToken = None\n",
    "    "
   ]
  },
  {
   "cell_type": "code",
   "execution_count": 11,
   "metadata": {},
   "outputs": [
    {
     "data": {
      "text/html": [
       "<div>\n",
       "<style scoped>\n",
       "    .dataframe tbody tr th:only-of-type {\n",
       "        vertical-align: middle;\n",
       "    }\n",
       "\n",
       "    .dataframe tbody tr th {\n",
       "        vertical-align: top;\n",
       "    }\n",
       "\n",
       "    .dataframe thead th {\n",
       "        text-align: right;\n",
       "    }\n",
       "</style>\n",
       "<table border=\"1\" class=\"dataframe\">\n",
       "  <thead>\n",
       "    <tr style=\"text-align: right;\">\n",
       "      <th></th>\n",
       "      <th>script_timestamp</th>\n",
       "      <th>video_id</th>\n",
       "      <th>publish_datetime</th>\n",
       "      <th>channel_id</th>\n",
       "      <th>video_title</th>\n",
       "      <th>video_description</th>\n",
       "      <th>channel_title</th>\n",
       "      <th>num_tags</th>\n",
       "      <th>category_id</th>\n",
       "      <th>duration</th>\n",
       "      <th>licensed_content</th>\n",
       "      <th>made_for_kids</th>\n",
       "      <th>num_views</th>\n",
       "      <th>num_likes</th>\n",
       "      <th>num_comments</th>\n",
       "    </tr>\n",
       "  </thead>\n",
       "  <tbody>\n",
       "    <tr>\n",
       "      <th>0</th>\n",
       "      <td>2024-04-29 17:42:38.248372+00:00</td>\n",
       "      <td>cw_TI06Bfds</td>\n",
       "      <td>2024-04-28T19:37:00Z</td>\n",
       "      <td>UCwVg9btOceLQuNCdoQk9CXg</td>\n",
       "      <td>I Built a Theme Park In My House!</td>\n",
       "      <td>I built a GIANT theme park in my house and inv...</td>\n",
       "      <td>Ben Azelart</td>\n",
       "      <td>27</td>\n",
       "      <td>24</td>\n",
       "      <td>PT24M36S</td>\n",
       "      <td>True</td>\n",
       "      <td>False</td>\n",
       "      <td>4283340</td>\n",
       "      <td>66997</td>\n",
       "      <td>5131</td>\n",
       "    </tr>\n",
       "    <tr>\n",
       "      <th>1</th>\n",
       "      <td>2024-04-29 17:42:38.248372+00:00</td>\n",
       "      <td>78fQeeEcWMQ</td>\n",
       "      <td>2024-04-29T08:01:17Z</td>\n",
       "      <td>UCooVYzDxdwTtGYAkcPmOgOw</td>\n",
       "      <td>How to get a FREE HYPERCHARGE SKIN!</td>\n",
       "      <td>You WILL get a Hypercharge skin for FREE when ...</td>\n",
       "      <td>Brawl Stars</td>\n",
       "      <td>21</td>\n",
       "      <td>20</td>\n",
       "      <td>PT2M7S</td>\n",
       "      <td>True</td>\n",
       "      <td>False</td>\n",
       "      <td>7928850</td>\n",
       "      <td>198738</td>\n",
       "      <td>7961</td>\n",
       "    </tr>\n",
       "    <tr>\n",
       "      <th>2</th>\n",
       "      <td>2024-04-29 17:42:38.248372+00:00</td>\n",
       "      <td>DxHw4UdDJDY</td>\n",
       "      <td>2024-04-28T16:43:03Z</td>\n",
       "      <td>UCja7QUMRG9AD8X2F_vXFb9A</td>\n",
       "      <td>I Built a Secret Room in the MALL! Ft/ Ben Aze...</td>\n",
       "      <td>I Built a Secret Room in the MALL! Today Ferra...</td>\n",
       "      <td>The Royalty Family</td>\n",
       "      <td>31</td>\n",
       "      <td>22</td>\n",
       "      <td>PT31M20S</td>\n",
       "      <td>True</td>\n",
       "      <td>False</td>\n",
       "      <td>2677439</td>\n",
       "      <td>48792</td>\n",
       "      <td>5187</td>\n",
       "    </tr>\n",
       "    <tr>\n",
       "      <th>3</th>\n",
       "      <td>2024-04-29 17:42:38.248372+00:00</td>\n",
       "      <td>K_DSF87l8C8</td>\n",
       "      <td>2024-04-29T09:19:56Z</td>\n",
       "      <td>UCVg9nCmmfIyP4QcGOnZZ9Qg</td>\n",
       "      <td>Street Fighter 6 - Akuma Gameplay Trailer</td>\n",
       "      <td>Akuma will unleash his rage on foes worthy eno...</td>\n",
       "      <td>Street Fighter</td>\n",
       "      <td>4</td>\n",
       "      <td>20</td>\n",
       "      <td>PT3M4S</td>\n",
       "      <td>True</td>\n",
       "      <td>False</td>\n",
       "      <td>402557</td>\n",
       "      <td>34446</td>\n",
       "      <td>2872</td>\n",
       "    </tr>\n",
       "    <tr>\n",
       "      <th>4</th>\n",
       "      <td>2024-04-29 17:42:38.248372+00:00</td>\n",
       "      <td>q7H_qhIwmuc</td>\n",
       "      <td>2024-04-29T05:28:23Z</td>\n",
       "      <td>UCU7iRrk3xfpUk0R6VdyC1Ow</td>\n",
       "      <td>Inside the NBA Reacts To Timberwolves SWEEPING...</td>\n",
       "      <td>Watch highlights from Inside the NBA with Shaq...</td>\n",
       "      <td>NBA on TNT</td>\n",
       "      <td>22</td>\n",
       "      <td>17</td>\n",
       "      <td>PT8M56S</td>\n",
       "      <td>True</td>\n",
       "      <td>False</td>\n",
       "      <td>691422</td>\n",
       "      <td>11409</td>\n",
       "      <td>2082</td>\n",
       "    </tr>\n",
       "    <tr>\n",
       "      <th>...</th>\n",
       "      <td>...</td>\n",
       "      <td>...</td>\n",
       "      <td>...</td>\n",
       "      <td>...</td>\n",
       "      <td>...</td>\n",
       "      <td>...</td>\n",
       "      <td>...</td>\n",
       "      <td>...</td>\n",
       "      <td>...</td>\n",
       "      <td>...</td>\n",
       "      <td>...</td>\n",
       "      <td>...</td>\n",
       "      <td>...</td>\n",
       "      <td>...</td>\n",
       "      <td>...</td>\n",
       "    </tr>\n",
       "    <tr>\n",
       "      <th>195</th>\n",
       "      <td>2024-04-29 17:42:38.248372+00:00</td>\n",
       "      <td>erLbbextvlY</td>\n",
       "      <td>2024-03-30T16:00:01Z</td>\n",
       "      <td>UCX6OQ3DkcsbYNE6H8uQQuVA</td>\n",
       "      <td>7 Days Stranded On An Island</td>\n",
       "      <td>I can’t believe we actually did this\\nSend mon...</td>\n",
       "      <td>MrBeast</td>\n",
       "      <td>0</td>\n",
       "      <td>24</td>\n",
       "      <td>PT22M26S</td>\n",
       "      <td>True</td>\n",
       "      <td>False</td>\n",
       "      <td>135127613</td>\n",
       "      <td>5088445</td>\n",
       "      <td>140963</td>\n",
       "    </tr>\n",
       "    <tr>\n",
       "      <th>196</th>\n",
       "      <td>2024-04-29 17:42:38.248372+00:00</td>\n",
       "      <td>PVsyDvu9sg4</td>\n",
       "      <td>2024-04-23T19:30:52Z</td>\n",
       "      <td>UCiGnwS3OVEuqbc78ELEFDeQ</td>\n",
       "      <td>we tried building a house in black &amp; white in ...</td>\n",
       "      <td>this might be our first house fail??\\nyou can ...</td>\n",
       "      <td>CarynandConnieGaming</td>\n",
       "      <td>28</td>\n",
       "      <td>20</td>\n",
       "      <td>PT28M30S</td>\n",
       "      <td>True</td>\n",
       "      <td>False</td>\n",
       "      <td>523242</td>\n",
       "      <td>39636</td>\n",
       "      <td>3312</td>\n",
       "    </tr>\n",
       "    <tr>\n",
       "      <th>197</th>\n",
       "      <td>2024-04-29 17:42:38.248372+00:00</td>\n",
       "      <td>Dm8OjeNNgqE</td>\n",
       "      <td>2024-04-23T15:15:02Z</td>\n",
       "      <td>UCXrExb1m3VjR0m1_l9luxRQ</td>\n",
       "      <td>Can MrSavage Beat PWR...</td>\n",
       "      <td>Today PWR is dropping into a game but against ...</td>\n",
       "      <td>PWR</td>\n",
       "      <td>28</td>\n",
       "      <td>20</td>\n",
       "      <td>PT17M59S</td>\n",
       "      <td>True</td>\n",
       "      <td>False</td>\n",
       "      <td>1039800</td>\n",
       "      <td>26047</td>\n",
       "      <td>1146</td>\n",
       "    </tr>\n",
       "    <tr>\n",
       "      <th>198</th>\n",
       "      <td>2024-04-29 17:42:38.248372+00:00</td>\n",
       "      <td>mPVjyFRjyro</td>\n",
       "      <td>2024-04-23T18:03:18Z</td>\n",
       "      <td>UC5UYMeKfZbFYnLHzoTJB1xA</td>\n",
       "      <td>Every Christopher Nolan Movie Ranked</td>\n",
       "      <td>Head to http://squarespace.com/schaffrillas to...</td>\n",
       "      <td>Schaffrillas Productions</td>\n",
       "      <td>15</td>\n",
       "      <td>24</td>\n",
       "      <td>PT59M29S</td>\n",
       "      <td>True</td>\n",
       "      <td>False</td>\n",
       "      <td>477692</td>\n",
       "      <td>26404</td>\n",
       "      <td>2607</td>\n",
       "    </tr>\n",
       "    <tr>\n",
       "      <th>199</th>\n",
       "      <td>2024-04-29 17:42:38.248372+00:00</td>\n",
       "      <td>raeVkPM4AWM</td>\n",
       "      <td>2024-04-23T18:00:27Z</td>\n",
       "      <td>UCPJHQ5_DLtxZ1gzBvZE99_g</td>\n",
       "      <td>Smosh Cast Responds to Assumptions About Them ...</td>\n",
       "      <td>In today’s episode of Assumptions we have Ange...</td>\n",
       "      <td>AnthonyPadilla</td>\n",
       "      <td>5</td>\n",
       "      <td>27</td>\n",
       "      <td>PT38M44S</td>\n",
       "      <td>True</td>\n",
       "      <td>False</td>\n",
       "      <td>534772</td>\n",
       "      <td>29933</td>\n",
       "      <td>1227</td>\n",
       "    </tr>\n",
       "  </tbody>\n",
       "</table>\n",
       "<p>200 rows × 15 columns</p>\n",
       "</div>"
      ],
      "text/plain": [
       "                    script_timestamp     video_id      publish_datetime  \\\n",
       "0   2024-04-29 17:42:38.248372+00:00  cw_TI06Bfds  2024-04-28T19:37:00Z   \n",
       "1   2024-04-29 17:42:38.248372+00:00  78fQeeEcWMQ  2024-04-29T08:01:17Z   \n",
       "2   2024-04-29 17:42:38.248372+00:00  DxHw4UdDJDY  2024-04-28T16:43:03Z   \n",
       "3   2024-04-29 17:42:38.248372+00:00  K_DSF87l8C8  2024-04-29T09:19:56Z   \n",
       "4   2024-04-29 17:42:38.248372+00:00  q7H_qhIwmuc  2024-04-29T05:28:23Z   \n",
       "..                               ...          ...                   ...   \n",
       "195 2024-04-29 17:42:38.248372+00:00  erLbbextvlY  2024-03-30T16:00:01Z   \n",
       "196 2024-04-29 17:42:38.248372+00:00  PVsyDvu9sg4  2024-04-23T19:30:52Z   \n",
       "197 2024-04-29 17:42:38.248372+00:00  Dm8OjeNNgqE  2024-04-23T15:15:02Z   \n",
       "198 2024-04-29 17:42:38.248372+00:00  mPVjyFRjyro  2024-04-23T18:03:18Z   \n",
       "199 2024-04-29 17:42:38.248372+00:00  raeVkPM4AWM  2024-04-23T18:00:27Z   \n",
       "\n",
       "                   channel_id  \\\n",
       "0    UCwVg9btOceLQuNCdoQk9CXg   \n",
       "1    UCooVYzDxdwTtGYAkcPmOgOw   \n",
       "2    UCja7QUMRG9AD8X2F_vXFb9A   \n",
       "3    UCVg9nCmmfIyP4QcGOnZZ9Qg   \n",
       "4    UCU7iRrk3xfpUk0R6VdyC1Ow   \n",
       "..                        ...   \n",
       "195  UCX6OQ3DkcsbYNE6H8uQQuVA   \n",
       "196  UCiGnwS3OVEuqbc78ELEFDeQ   \n",
       "197  UCXrExb1m3VjR0m1_l9luxRQ   \n",
       "198  UC5UYMeKfZbFYnLHzoTJB1xA   \n",
       "199  UCPJHQ5_DLtxZ1gzBvZE99_g   \n",
       "\n",
       "                                           video_title  \\\n",
       "0                    I Built a Theme Park In My House!   \n",
       "1                  How to get a FREE HYPERCHARGE SKIN!   \n",
       "2    I Built a Secret Room in the MALL! Ft/ Ben Aze...   \n",
       "3            Street Fighter 6 - Akuma Gameplay Trailer   \n",
       "4    Inside the NBA Reacts To Timberwolves SWEEPING...   \n",
       "..                                                 ...   \n",
       "195                       7 Days Stranded On An Island   \n",
       "196  we tried building a house in black & white in ...   \n",
       "197                           Can MrSavage Beat PWR...   \n",
       "198               Every Christopher Nolan Movie Ranked   \n",
       "199  Smosh Cast Responds to Assumptions About Them ...   \n",
       "\n",
       "                                     video_description  \\\n",
       "0    I built a GIANT theme park in my house and inv...   \n",
       "1    You WILL get a Hypercharge skin for FREE when ...   \n",
       "2    I Built a Secret Room in the MALL! Today Ferra...   \n",
       "3    Akuma will unleash his rage on foes worthy eno...   \n",
       "4    Watch highlights from Inside the NBA with Shaq...   \n",
       "..                                                 ...   \n",
       "195  I can’t believe we actually did this\\nSend mon...   \n",
       "196  this might be our first house fail??\\nyou can ...   \n",
       "197  Today PWR is dropping into a game but against ...   \n",
       "198  Head to http://squarespace.com/schaffrillas to...   \n",
       "199  In today’s episode of Assumptions we have Ange...   \n",
       "\n",
       "                channel_title  num_tags category_id  duration  \\\n",
       "0                 Ben Azelart        27          24  PT24M36S   \n",
       "1                 Brawl Stars        21          20    PT2M7S   \n",
       "2          The Royalty Family        31          22  PT31M20S   \n",
       "3              Street Fighter         4          20    PT3M4S   \n",
       "4                  NBA on TNT        22          17   PT8M56S   \n",
       "..                        ...       ...         ...       ...   \n",
       "195                   MrBeast         0          24  PT22M26S   \n",
       "196      CarynandConnieGaming        28          20  PT28M30S   \n",
       "197                       PWR        28          20  PT17M59S   \n",
       "198  Schaffrillas Productions        15          24  PT59M29S   \n",
       "199            AnthonyPadilla         5          27  PT38M44S   \n",
       "\n",
       "     licensed_content  made_for_kids  num_views num_likes num_comments  \n",
       "0                True          False    4283340     66997         5131  \n",
       "1                True          False    7928850    198738         7961  \n",
       "2                True          False    2677439     48792         5187  \n",
       "3                True          False     402557     34446         2872  \n",
       "4                True          False     691422     11409         2082  \n",
       "..                ...            ...        ...       ...          ...  \n",
       "195              True          False  135127613   5088445       140963  \n",
       "196              True          False     523242     39636         3312  \n",
       "197              True          False    1039800     26047         1146  \n",
       "198              True          False     477692     26404         2607  \n",
       "199              True          False     534772     29933         1227  \n",
       "\n",
       "[200 rows x 15 columns]"
      ]
     },
     "execution_count": 11,
     "metadata": {},
     "output_type": "execute_result"
    }
   ],
   "source": [
    "video_df"
   ]
  },
  {
   "cell_type": "code",
   "execution_count": 12,
   "metadata": {},
   "outputs": [
    {
     "data": {
      "text/plain": [
       "script_timestamp     0\n",
       "video_id             0\n",
       "publish_datetime     0\n",
       "channel_id           0\n",
       "video_title          0\n",
       "video_description    0\n",
       "channel_title        0\n",
       "num_tags             0\n",
       "category_id          0\n",
       "duration             0\n",
       "licensed_content     0\n",
       "made_for_kids        0\n",
       "num_views            0\n",
       "num_likes            1\n",
       "num_comments         1\n",
       "dtype: int64"
      ]
     },
     "execution_count": 12,
     "metadata": {},
     "output_type": "execute_result"
    }
   ],
   "source": [
    "video_df.isna().sum()"
   ]
  },
  {
   "cell_type": "markdown",
   "metadata": {},
   "source": [
    "## Transform"
   ]
  },
  {
   "cell_type": "code",
   "execution_count": 13,
   "metadata": {},
   "outputs": [
    {
     "data": {
      "text/plain": [
       "script_timestamp     datetime64[ns, UTC]\n",
       "video_id                          object\n",
       "publish_datetime                  object\n",
       "channel_id                        object\n",
       "video_title                       object\n",
       "video_description                 object\n",
       "channel_title                     object\n",
       "num_tags                           int64\n",
       "category_id                       object\n",
       "duration                          object\n",
       "licensed_content                    bool\n",
       "made_for_kids                       bool\n",
       "num_views                         object\n",
       "num_likes                         object\n",
       "num_comments                      object\n",
       "dtype: object"
      ]
     },
     "execution_count": 13,
     "metadata": {},
     "output_type": "execute_result"
    }
   ],
   "source": [
    "# fix datatypes\n",
    "video_df.dtypes"
   ]
  },
  {
   "cell_type": "code",
   "execution_count": 14,
   "metadata": {},
   "outputs": [
    {
     "data": {
      "text/html": [
       "<div>\n",
       "<style scoped>\n",
       "    .dataframe tbody tr th:only-of-type {\n",
       "        vertical-align: middle;\n",
       "    }\n",
       "\n",
       "    .dataframe tbody tr th {\n",
       "        vertical-align: top;\n",
       "    }\n",
       "\n",
       "    .dataframe thead th {\n",
       "        text-align: right;\n",
       "    }\n",
       "</style>\n",
       "<table border=\"1\" class=\"dataframe\">\n",
       "  <thead>\n",
       "    <tr style=\"text-align: right;\">\n",
       "      <th></th>\n",
       "      <th>script_timestamp</th>\n",
       "      <th>video_id</th>\n",
       "      <th>publish_datetime</th>\n",
       "      <th>channel_id</th>\n",
       "      <th>video_title</th>\n",
       "      <th>video_description</th>\n",
       "      <th>channel_title</th>\n",
       "      <th>num_tags</th>\n",
       "      <th>category_id</th>\n",
       "      <th>duration</th>\n",
       "      <th>licensed_content</th>\n",
       "      <th>made_for_kids</th>\n",
       "      <th>num_views</th>\n",
       "      <th>num_likes</th>\n",
       "      <th>num_comments</th>\n",
       "    </tr>\n",
       "  </thead>\n",
       "  <tbody>\n",
       "    <tr>\n",
       "      <th>119</th>\n",
       "      <td>2024-04-29 17:42:38.248372+00:00</td>\n",
       "      <td>uDzAYs329Ig</td>\n",
       "      <td>2024-04-25T22:00:39Z</td>\n",
       "      <td>UC5f5IV0Bf79YLp_p9nfInRA</td>\n",
       "      <td>How Many Lava Lamps Stop A Wrench Throw?</td>\n",
       "      <td>Buy Rexy Clothing ➤ https://rexyclothing.com\\n...</td>\n",
       "      <td>How Ridiculous</td>\n",
       "      <td>3</td>\n",
       "      <td>17</td>\n",
       "      <td>PT20M40S</td>\n",
       "      <td>True</td>\n",
       "      <td>False</td>\n",
       "      <td>704911</td>\n",
       "      <td>29059</td>\n",
       "      <td>2306</td>\n",
       "    </tr>\n",
       "  </tbody>\n",
       "</table>\n",
       "</div>"
      ],
      "text/plain": [
       "                    script_timestamp     video_id      publish_datetime  \\\n",
       "119 2024-04-29 17:42:38.248372+00:00  uDzAYs329Ig  2024-04-25T22:00:39Z   \n",
       "\n",
       "                   channel_id                               video_title  \\\n",
       "119  UC5f5IV0Bf79YLp_p9nfInRA  How Many Lava Lamps Stop A Wrench Throw?   \n",
       "\n",
       "                                     video_description   channel_title  \\\n",
       "119  Buy Rexy Clothing ➤ https://rexyclothing.com\\n...  How Ridiculous   \n",
       "\n",
       "     num_tags category_id  duration  licensed_content  made_for_kids  \\\n",
       "119         3          17  PT20M40S              True          False   \n",
       "\n",
       "    num_views num_likes num_comments  \n",
       "119    704911     29059         2306  "
      ]
     },
     "execution_count": 14,
     "metadata": {},
     "output_type": "execute_result"
    }
   ],
   "source": [
    "video_df.sample(1)"
   ]
  },
  {
   "cell_type": "markdown",
   "metadata": {},
   "source": [
    "### Turn publish_datetime into datetime"
   ]
  },
  {
   "cell_type": "code",
   "execution_count": 15,
   "metadata": {},
   "outputs": [],
   "source": [
    "# turn publish_datetime into datetime\n",
    "video_df[\"publish_datetime\"] = pd.to_datetime(video_df[\"publish_datetime\"], format=\"ISO8601\")"
   ]
  },
  {
   "cell_type": "markdown",
   "metadata": {},
   "source": [
    "### Parse duration in minutes from duration"
   ]
  },
  {
   "cell_type": "code",
   "execution_count": 16,
   "metadata": {},
   "outputs": [
    {
     "data": {
      "text/plain": [
       "0      PT24M36S\n",
       "1        PT2M7S\n",
       "2      PT31M20S\n",
       "3        PT3M4S\n",
       "4       PT8M56S\n",
       "         ...   \n",
       "195    PT22M26S\n",
       "196    PT28M30S\n",
       "197    PT17M59S\n",
       "198    PT59M29S\n",
       "199    PT38M44S\n",
       "Name: duration, Length: 200, dtype: object"
      ]
     },
     "execution_count": 16,
     "metadata": {},
     "output_type": "execute_result"
    }
   ],
   "source": [
    "video_df[\"duration\"]"
   ]
  },
  {
   "cell_type": "code",
   "execution_count": 17,
   "metadata": {},
   "outputs": [],
   "source": [
    "video_df[\"duration\"] = pd.to_timedelta(video_df[\"duration\"]).apply(lambda x: x.seconds)\n",
    "video_df.rename(columns={\"duration\": \"duration_seconds\"}, inplace=True)"
   ]
  },
  {
   "cell_type": "markdown",
   "metadata": {},
   "source": [
    "### Turn num_view, num_likes, and num_comments into ints"
   ]
  },
  {
   "cell_type": "code",
   "execution_count": 18,
   "metadata": {},
   "outputs": [
    {
     "data": {
      "text/plain": [
       "num_views       0\n",
       "num_likes       1\n",
       "num_comments    1\n",
       "dtype: int64"
      ]
     },
     "execution_count": 18,
     "metadata": {},
     "output_type": "execute_result"
    }
   ],
   "source": [
    "video_df[[\"num_views\", \"num_likes\", \"num_comments\"]].isna().sum()"
   ]
  },
  {
   "cell_type": "code",
   "execution_count": 19,
   "metadata": {},
   "outputs": [
    {
     "data": {
      "text/plain": [
       "num_views       0\n",
       "num_likes       0\n",
       "num_comments    0\n",
       "dtype: int64"
      ]
     },
     "execution_count": 19,
     "metadata": {},
     "output_type": "execute_result"
    }
   ],
   "source": [
    "video_df[[\"num_views\", \"num_likes\", \"num_comments\"]] = video_df[[\"num_views\", \"num_likes\", \"num_comments\"]].fillna(0)\n",
    "video_df[[\"num_views\", \"num_likes\", \"num_comments\"]].isna().sum()"
   ]
  },
  {
   "cell_type": "code",
   "execution_count": 20,
   "metadata": {},
   "outputs": [],
   "source": [
    "video_df[[\"num_views\", \"num_likes\", \"num_comments\"]] = video_df[[\"num_views\", \"num_likes\", \"num_comments\"]].astype(dtype=\"int\")"
   ]
  },
  {
   "cell_type": "code",
   "execution_count": 21,
   "metadata": {},
   "outputs": [
    {
     "data": {
      "text/plain": [
       "script_timestamp     datetime64[ns, UTC]\n",
       "video_id                          object\n",
       "publish_datetime     datetime64[ns, UTC]\n",
       "channel_id                        object\n",
       "video_title                       object\n",
       "video_description                 object\n",
       "channel_title                     object\n",
       "num_tags                           int64\n",
       "category_id                       object\n",
       "duration_seconds                   int64\n",
       "licensed_content                    bool\n",
       "made_for_kids                       bool\n",
       "num_views                          int64\n",
       "num_likes                          int64\n",
       "num_comments                       int64\n",
       "dtype: object"
      ]
     },
     "execution_count": 21,
     "metadata": {},
     "output_type": "execute_result"
    }
   ],
   "source": [
    "video_df.dtypes"
   ]
  },
  {
   "cell_type": "code",
   "execution_count": 23,
   "metadata": {},
   "outputs": [
    {
     "data": {
      "text/plain": [
       "category_id\n",
       "2    188\n",
       "1     12\n",
       "Name: count, dtype: int64"
      ]
     },
     "execution_count": 23,
     "metadata": {},
     "output_type": "execute_result"
    }
   ],
   "source": [
    "video_df[\"category_id\"].apply(lambda x: len(x)).value_counts()"
   ]
  },
  {
   "cell_type": "markdown",
   "metadata": {},
   "source": [
    "## Load"
   ]
  },
  {
   "cell_type": "code",
   "execution_count": 25,
   "metadata": {},
   "outputs": [],
   "source": [
    "video_fact = \"\"\"CREATE TABLE IF NOT EXISTS video_fact\n",
    "(\n",
    " collected_at timestamp NOT NULL,\n",
    " video_id     varchar(11) NOT NULL,\n",
    " num_views    int NOT NULL,\n",
    " num_likes    int NOT NULL,\n",
    " num_comments int NOT NULL,\n",
    " CONSTRAINT PK_1 PRIMARY KEY ( collected_at, video_id )\n",
    ");\"\"\"\n",
    "\n",
    "cursor.execute(video_fact)"
   ]
  },
  {
   "cell_type": "code",
   "execution_count": 27,
   "metadata": {},
   "outputs": [
    {
     "ename": "InFailedSqlTransaction",
     "evalue": "current transaction is aborted, commands ignored until end of transaction block\n",
     "output_type": "error",
     "traceback": [
      "\u001b[0;31m---------------------------------------------------------------------------\u001b[0m",
      "\u001b[0;31mInFailedSqlTransaction\u001b[0m                    Traceback (most recent call last)",
      "Cell \u001b[0;32mIn[27], line 15\u001b[0m\n\u001b[1;32m      1\u001b[0m video_dim \u001b[38;5;241m=\u001b[39m \u001b[38;5;124m\"\"\"\u001b[39m\u001b[38;5;124mCREATE TABLE IF NOT EXISTS video_dim\u001b[39m\n\u001b[1;32m      2\u001b[0m \u001b[38;5;124m(\u001b[39m\n\u001b[1;32m      3\u001b[0m \u001b[38;5;124m video_id      varchar(11) NOT NULL,\u001b[39m\n\u001b[0;32m   (...)\u001b[0m\n\u001b[1;32m     13\u001b[0m \u001b[38;5;124m CONSTRAINT PK_2 PRIMARY KEY ( video_id )\u001b[39m\n\u001b[1;32m     14\u001b[0m \u001b[38;5;124m);\u001b[39m\u001b[38;5;124m\"\"\"\u001b[39m\n\u001b[0;32m---> 15\u001b[0m \u001b[43mcursor\u001b[49m\u001b[38;5;241;43m.\u001b[39;49m\u001b[43mexecute\u001b[49m\u001b[43m(\u001b[49m\u001b[43mvideo_dim\u001b[49m\u001b[43m)\u001b[49m\n",
      "\u001b[0;31mInFailedSqlTransaction\u001b[0m: current transaction is aborted, commands ignored until end of transaction block\n"
     ]
    }
   ],
   "source": [
    "video_dim = \"\"\"CREATE TABLE IF NOT EXISTS video_dim\n",
    "(\n",
    " video_id      varchar(11) NOT NULL,\n",
    " channel_id    varchar(24) NOT NULL,\n",
    " title         varchar(100) NOT NULL,\n",
    " description   varchar(5000) NOT NULL,\n",
    " num_tags      int NOT NULL,\n",
    " duration_sec  int NOT NULL,\n",
    " licensed      boolean NOT NULL,\n",
    " made_for_kids boolean NOT NULL,\n",
    " published_at  timestamp NOT NULL,\n",
    " category_id   int NOT NULL,\n",
    " CONSTRAINT PK_2 PRIMARY KEY ( video_id )\n",
    ");\"\"\"\n",
    "cursor.execute(video_dim)"
   ]
  },
  {
   "cell_type": "markdown",
   "metadata": {},
   "source": [
    "***\n",
    "# Channel metadata from top 200 videos\n",
    "## Extract\n",
    "API limits 50 channels per call with no pages."
   ]
  },
  {
   "cell_type": "code",
   "execution_count": 63,
   "metadata": {},
   "outputs": [],
   "source": [
    "unique_channel_ids = video_df[\"channel_id\"].unique()"
   ]
  },
  {
   "cell_type": "code",
   "execution_count": 59,
   "metadata": {},
   "outputs": [],
   "source": [
    "channels_api_url = \"https://www.googleapis.com/youtube/v3/channels\""
   ]
  },
  {
   "cell_type": "code",
   "execution_count": 60,
   "metadata": {},
   "outputs": [],
   "source": [
    "def parse_channel_json(channel):\n",
    "    channel_id = channel[\"id\"]\n",
    "\n",
    "    # snippet\n",
    "    channel_created_datetime = channel[\"snippet\"][\"publishedAt\"]\n",
    "    channel_name = channel[\"snippet\"][\"title\"]\n",
    "\n",
    "    # statistics\n",
    "    channel_total_views = channel[\"statistics\"].get(\"viewCount\", None)\n",
    "    channel_num_subscribers = channel[\"statistics\"].get(\"subscriberCount\", None)\n",
    "    channel_num_videos = channel[\"statistics\"].get(\"videoCount\", None)\n",
    "\n",
    "    return [channel_id, \n",
    "            channel_created_datetime,\n",
    "            channel_name, \n",
    "            channel_total_views, \n",
    "            channel_num_subscribers,\n",
    "            channel_num_videos]    "
   ]
  },
  {
   "cell_type": "code",
   "execution_count": 64,
   "metadata": {},
   "outputs": [
    {
     "data": {
      "text/plain": [
       "33"
      ]
     },
     "execution_count": 64,
     "metadata": {},
     "output_type": "execute_result"
    }
   ],
   "source": [
    "len(unique_channel_ids) % 50"
   ]
  },
  {
   "cell_type": "code",
   "execution_count": 65,
   "metadata": {},
   "outputs": [
    {
     "data": {
      "text/plain": [
       "[50, 50, 50, 33]"
      ]
     },
     "execution_count": 65,
     "metadata": {},
     "output_type": "execute_result"
    }
   ],
   "source": [
    "# https://stackoverflow.com/questions/312443/how-do-i-split-a-list-into-equally-sized-chunks\n",
    "def chunks(lst, n):\n",
    "    return [lst[i:i + n] for i in range(0, len(lst), n)]\n",
    "\n",
    "channels_chunked = chunks(unique_channel_ids, 50)\n",
    "[len(chunk) for chunk in channels_chunked] # chunks = # API calls"
   ]
  },
  {
   "cell_type": "code",
   "execution_count": 66,
   "metadata": {},
   "outputs": [
    {
     "data": {
      "text/html": [
       "<div>\n",
       "<style scoped>\n",
       "    .dataframe tbody tr th:only-of-type {\n",
       "        vertical-align: middle;\n",
       "    }\n",
       "\n",
       "    .dataframe tbody tr th {\n",
       "        vertical-align: top;\n",
       "    }\n",
       "\n",
       "    .dataframe thead th {\n",
       "        text-align: right;\n",
       "    }\n",
       "</style>\n",
       "<table border=\"1\" class=\"dataframe\">\n",
       "  <thead>\n",
       "    <tr style=\"text-align: right;\">\n",
       "      <th></th>\n",
       "      <th>request_datetime</th>\n",
       "      <th>id</th>\n",
       "      <th>created_datetime</th>\n",
       "      <th>total_views</th>\n",
       "      <th>num_subscribers</th>\n",
       "      <th>num_videos</th>\n",
       "    </tr>\n",
       "  </thead>\n",
       "  <tbody>\n",
       "  </tbody>\n",
       "</table>\n",
       "</div>"
      ],
      "text/plain": [
       "Empty DataFrame\n",
       "Columns: [request_datetime, id, created_datetime, total_views, num_subscribers, num_videos]\n",
       "Index: []"
      ]
     },
     "execution_count": 66,
     "metadata": {},
     "output_type": "execute_result"
    }
   ],
   "source": [
    "channel_df = pd.DataFrame(columns=[\"request_datetime\", \n",
    "                                \"id\", \n",
    "                                \"created_datetime\", \n",
    "                                \"name\"\n",
    "                                \"total_views\", \n",
    "                                \"num_subscribers\",\n",
    "                                \"num_videos\"])\n",
    "channel_df"
   ]
  },
  {
   "cell_type": "code",
   "execution_count": 67,
   "metadata": {},
   "outputs": [],
   "source": [
    "for channels in channels_chunked:\n",
    "    params = {\n",
    "        \"key\": api_key,\n",
    "        \"part\": \"id, snippet, statistics\",\n",
    "        \"id\": \", \".join(channels),\n",
    "        \"maxResults\": 50,\n",
    "    }\n",
    "\n",
    "    response = requests.get(channels_api_url, params=params)\n",
    "\n",
    "    if response.status_code == 200:\n",
    "        response_json = response.json()\n",
    "\n",
    "        for channel in response_json[\"items\"]:\n",
    "            # add channel details and datetime of request to end of video dataframe\n",
    "            channel_df.loc[len(channel_df)] = [script_timestamp] + parse_channel_json(channel)\n",
    "\n",
    "    else:\n",
    "        print(f\"response.status_code = {response.status_code}\")"
   ]
  },
  {
   "cell_type": "code",
   "execution_count": 68,
   "metadata": {},
   "outputs": [
    {
     "data": {
      "text/plain": [
       "(183, 6)"
      ]
     },
     "execution_count": 68,
     "metadata": {},
     "output_type": "execute_result"
    }
   ],
   "source": [
    "channel_df.shape"
   ]
  },
  {
   "cell_type": "markdown",
   "metadata": {},
   "source": [
    "## Transform"
   ]
  },
  {
   "cell_type": "code",
   "execution_count": 69,
   "metadata": {},
   "outputs": [
    {
     "data": {
      "text/plain": [
       "request_datetime    datetime64[ns, UTC]\n",
       "id                               object\n",
       "created_datetime                 object\n",
       "total_views                      object\n",
       "num_subscribers                  object\n",
       "num_videos                       object\n",
       "dtype: object"
      ]
     },
     "execution_count": 69,
     "metadata": {},
     "output_type": "execute_result"
    }
   ],
   "source": [
    "# fix datatypes\n",
    "channel_df.dtypes"
   ]
  },
  {
   "cell_type": "markdown",
   "metadata": {},
   "source": [
    "### Turn created_datetime into datetime"
   ]
  },
  {
   "cell_type": "code",
   "execution_count": 70,
   "metadata": {},
   "outputs": [],
   "source": [
    "channel_df[\"created_datetime\"] = pd.to_datetime(channel_df[\"created_datetime\"], format=\"ISO8601\")"
   ]
  },
  {
   "cell_type": "markdown",
   "metadata": {},
   "source": [
    "### Turn total_views, num_subscribers, num_videos into ints"
   ]
  },
  {
   "cell_type": "code",
   "execution_count": 71,
   "metadata": {},
   "outputs": [
    {
     "data": {
      "text/plain": [
       "total_views        0\n",
       "num_subscribers    0\n",
       "num_videos         0\n",
       "dtype: int64"
      ]
     },
     "execution_count": 71,
     "metadata": {},
     "output_type": "execute_result"
    }
   ],
   "source": [
    "channel_df[[\"total_views\", \"num_subscribers\", \"num_videos\"]].isna().sum()"
   ]
  },
  {
   "cell_type": "code",
   "execution_count": 72,
   "metadata": {},
   "outputs": [
    {
     "data": {
      "text/plain": [
       "total_views        0\n",
       "num_subscribers    0\n",
       "num_videos         0\n",
       "dtype: int64"
      ]
     },
     "execution_count": 72,
     "metadata": {},
     "output_type": "execute_result"
    }
   ],
   "source": [
    "channel_df[[\"total_views\", \"num_subscribers\", \"num_videos\"]] = channel_df[[\"total_views\", \"num_subscribers\", \"num_videos\"]].fillna(0)\n",
    "channel_df[[\"total_views\", \"num_subscribers\", \"num_videos\"]].isna().sum()"
   ]
  },
  {
   "cell_type": "code",
   "execution_count": 73,
   "metadata": {},
   "outputs": [],
   "source": [
    "channel_df[[\"total_views\", \"num_subscribers\", \"num_videos\"]] = channel_df[[\"total_views\", \"num_subscribers\", \"num_videos\"]].astype(dtype=\"int\")"
   ]
  },
  {
   "cell_type": "code",
   "execution_count": 74,
   "metadata": {},
   "outputs": [
    {
     "data": {
      "text/plain": [
       "request_datetime    datetime64[ns, UTC]\n",
       "id                               object\n",
       "created_datetime    datetime64[ns, UTC]\n",
       "total_views                       int64\n",
       "num_subscribers                   int64\n",
       "num_videos                        int64\n",
       "dtype: object"
      ]
     },
     "execution_count": 74,
     "metadata": {},
     "output_type": "execute_result"
    }
   ],
   "source": [
    "channel_df.dtypes"
   ]
  },
  {
   "cell_type": "markdown",
   "metadata": {},
   "source": [
    "## Load"
   ]
  },
  {
   "cell_type": "code",
   "execution_count": null,
   "metadata": {},
   "outputs": [],
   "source": [
    "channel_dim = \"\"\"CREATE TABLE IF NOT EXISTS channel_dim\n",
    "(\n",
    " channel_id varchar(24) NOT NULL,\n",
    " name       varchar(36) NOT NULL,\n",
    " created_at timestamp NOT NULL,\n",
    " CONSTRAINT PK_1 PRIMARY KEY ( channel_id )\n",
    ");\"\"\"\n",
    "cursor.execute(channel_dim)"
   ]
  },
  {
   "cell_type": "code",
   "execution_count": null,
   "metadata": {},
   "outputs": [],
   "source": [
    "channel_fact = \"\"\"CREATE TABLE IF NOT EXISTS channel_fact\n",
    "(\n",
    " datetime        timestamp NOT NULL,\n",
    " channel_id      varchar(24) NOT NULL,\n",
    " total_views     int NOT NULL,\n",
    " num_subscribers int NOT NULL,\n",
    " num_videos      int NOT NULL,\n",
    " CONSTRAINT PK_1 PRIMARY KEY ( datetime, channel_id )\n",
    ");\"\"\"\n",
    "cursor.execute(channel_fact)"
   ]
  },
  {
   "cell_type": "markdown",
   "metadata": {},
   "source": [
    "# Video Categories"
   ]
  },
  {
   "cell_type": "code",
   "execution_count": 83,
   "metadata": {},
   "outputs": [],
   "source": [
    "videoCategories_api_url = \"https://www.googleapis.com/youtube/v3/videoCategories\""
   ]
  },
  {
   "cell_type": "markdown",
   "metadata": {},
   "source": [
    "## Extract"
   ]
  },
  {
   "cell_type": "code",
   "execution_count": 80,
   "metadata": {},
   "outputs": [],
   "source": [
    "def parse_videoCategories_json(category):\n",
    "    id = category[\"id\"]\n",
    "    name = category[\"snippet\"][\"title\"]\n",
    "\n",
    "    return [id, name]"
   ]
  },
  {
   "cell_type": "code",
   "execution_count": 82,
   "metadata": {},
   "outputs": [
    {
     "data": {
      "text/html": [
       "<div>\n",
       "<style scoped>\n",
       "    .dataframe tbody tr th:only-of-type {\n",
       "        vertical-align: middle;\n",
       "    }\n",
       "\n",
       "    .dataframe tbody tr th {\n",
       "        vertical-align: top;\n",
       "    }\n",
       "\n",
       "    .dataframe thead th {\n",
       "        text-align: right;\n",
       "    }\n",
       "</style>\n",
       "<table border=\"1\" class=\"dataframe\">\n",
       "  <thead>\n",
       "    <tr style=\"text-align: right;\">\n",
       "      <th></th>\n",
       "      <th>id</th>\n",
       "      <th>name</th>\n",
       "    </tr>\n",
       "  </thead>\n",
       "  <tbody>\n",
       "  </tbody>\n",
       "</table>\n",
       "</div>"
      ],
      "text/plain": [
       "Empty DataFrame\n",
       "Columns: [id, name]\n",
       "Index: []"
      ]
     },
     "execution_count": 82,
     "metadata": {},
     "output_type": "execute_result"
    }
   ],
   "source": [
    "videoCategories_df = pd.DataFrame(columns=[\"id\",\"name\"])\n",
    "videoCategories_df"
   ]
  },
  {
   "cell_type": "code",
   "execution_count": null,
   "metadata": {},
   "outputs": [],
   "source": [
    "params = {\n",
    "    \"key\": api_key,\n",
    "    \"part\": \"snippet\",\n",
    "    \"regionCode\": \"US\",\n",
    "}\n",
    "\n",
    "response = requests.get(videoCategories_api_url, params=params)\n",
    "\n",
    "if response.status_code == 200:\n",
    "    response_json = response.json()\n",
    "\n",
    "    for category in response_json[\"items\"]:\n",
    "        # add channel details and datetime of request to end of video dataframe\n",
    "        videoCategories_df.loc[len(videoCategories_df)] = parse_videoCategories_json(category)\n",
    "\n",
    "else:\n",
    "    print(f\"response.status_code = {response.status_code}\")"
   ]
  },
  {
   "cell_type": "code",
   "execution_count": 84,
   "metadata": {},
   "outputs": [
    {
     "data": {
      "text/html": [
       "<div>\n",
       "<style scoped>\n",
       "    .dataframe tbody tr th:only-of-type {\n",
       "        vertical-align: middle;\n",
       "    }\n",
       "\n",
       "    .dataframe tbody tr th {\n",
       "        vertical-align: top;\n",
       "    }\n",
       "\n",
       "    .dataframe thead th {\n",
       "        text-align: right;\n",
       "    }\n",
       "</style>\n",
       "<table border=\"1\" class=\"dataframe\">\n",
       "  <thead>\n",
       "    <tr style=\"text-align: right;\">\n",
       "      <th></th>\n",
       "      <th>id</th>\n",
       "      <th>name</th>\n",
       "    </tr>\n",
       "  </thead>\n",
       "  <tbody>\n",
       "    <tr>\n",
       "      <th>0</th>\n",
       "      <td>1</td>\n",
       "      <td>Film &amp; Animation</td>\n",
       "    </tr>\n",
       "    <tr>\n",
       "      <th>1</th>\n",
       "      <td>2</td>\n",
       "      <td>Autos &amp; Vehicles</td>\n",
       "    </tr>\n",
       "    <tr>\n",
       "      <th>2</th>\n",
       "      <td>10</td>\n",
       "      <td>Music</td>\n",
       "    </tr>\n",
       "    <tr>\n",
       "      <th>3</th>\n",
       "      <td>15</td>\n",
       "      <td>Pets &amp; Animals</td>\n",
       "    </tr>\n",
       "    <tr>\n",
       "      <th>4</th>\n",
       "      <td>17</td>\n",
       "      <td>Sports</td>\n",
       "    </tr>\n",
       "    <tr>\n",
       "      <th>5</th>\n",
       "      <td>18</td>\n",
       "      <td>Short Movies</td>\n",
       "    </tr>\n",
       "    <tr>\n",
       "      <th>6</th>\n",
       "      <td>19</td>\n",
       "      <td>Travel &amp; Events</td>\n",
       "    </tr>\n",
       "    <tr>\n",
       "      <th>7</th>\n",
       "      <td>20</td>\n",
       "      <td>Gaming</td>\n",
       "    </tr>\n",
       "    <tr>\n",
       "      <th>8</th>\n",
       "      <td>21</td>\n",
       "      <td>Videoblogging</td>\n",
       "    </tr>\n",
       "    <tr>\n",
       "      <th>9</th>\n",
       "      <td>22</td>\n",
       "      <td>People &amp; Blogs</td>\n",
       "    </tr>\n",
       "    <tr>\n",
       "      <th>10</th>\n",
       "      <td>23</td>\n",
       "      <td>Comedy</td>\n",
       "    </tr>\n",
       "    <tr>\n",
       "      <th>11</th>\n",
       "      <td>24</td>\n",
       "      <td>Entertainment</td>\n",
       "    </tr>\n",
       "    <tr>\n",
       "      <th>12</th>\n",
       "      <td>25</td>\n",
       "      <td>News &amp; Politics</td>\n",
       "    </tr>\n",
       "    <tr>\n",
       "      <th>13</th>\n",
       "      <td>26</td>\n",
       "      <td>Howto &amp; Style</td>\n",
       "    </tr>\n",
       "    <tr>\n",
       "      <th>14</th>\n",
       "      <td>27</td>\n",
       "      <td>Education</td>\n",
       "    </tr>\n",
       "    <tr>\n",
       "      <th>15</th>\n",
       "      <td>28</td>\n",
       "      <td>Science &amp; Technology</td>\n",
       "    </tr>\n",
       "    <tr>\n",
       "      <th>16</th>\n",
       "      <td>29</td>\n",
       "      <td>Nonprofits &amp; Activism</td>\n",
       "    </tr>\n",
       "    <tr>\n",
       "      <th>17</th>\n",
       "      <td>30</td>\n",
       "      <td>Movies</td>\n",
       "    </tr>\n",
       "    <tr>\n",
       "      <th>18</th>\n",
       "      <td>31</td>\n",
       "      <td>Anime/Animation</td>\n",
       "    </tr>\n",
       "    <tr>\n",
       "      <th>19</th>\n",
       "      <td>32</td>\n",
       "      <td>Action/Adventure</td>\n",
       "    </tr>\n",
       "    <tr>\n",
       "      <th>20</th>\n",
       "      <td>33</td>\n",
       "      <td>Classics</td>\n",
       "    </tr>\n",
       "    <tr>\n",
       "      <th>21</th>\n",
       "      <td>34</td>\n",
       "      <td>Comedy</td>\n",
       "    </tr>\n",
       "    <tr>\n",
       "      <th>22</th>\n",
       "      <td>35</td>\n",
       "      <td>Documentary</td>\n",
       "    </tr>\n",
       "    <tr>\n",
       "      <th>23</th>\n",
       "      <td>36</td>\n",
       "      <td>Drama</td>\n",
       "    </tr>\n",
       "    <tr>\n",
       "      <th>24</th>\n",
       "      <td>37</td>\n",
       "      <td>Family</td>\n",
       "    </tr>\n",
       "    <tr>\n",
       "      <th>25</th>\n",
       "      <td>38</td>\n",
       "      <td>Foreign</td>\n",
       "    </tr>\n",
       "    <tr>\n",
       "      <th>26</th>\n",
       "      <td>39</td>\n",
       "      <td>Horror</td>\n",
       "    </tr>\n",
       "    <tr>\n",
       "      <th>27</th>\n",
       "      <td>40</td>\n",
       "      <td>Sci-Fi/Fantasy</td>\n",
       "    </tr>\n",
       "    <tr>\n",
       "      <th>28</th>\n",
       "      <td>41</td>\n",
       "      <td>Thriller</td>\n",
       "    </tr>\n",
       "    <tr>\n",
       "      <th>29</th>\n",
       "      <td>42</td>\n",
       "      <td>Shorts</td>\n",
       "    </tr>\n",
       "    <tr>\n",
       "      <th>30</th>\n",
       "      <td>43</td>\n",
       "      <td>Shows</td>\n",
       "    </tr>\n",
       "    <tr>\n",
       "      <th>31</th>\n",
       "      <td>44</td>\n",
       "      <td>Trailers</td>\n",
       "    </tr>\n",
       "  </tbody>\n",
       "</table>\n",
       "</div>"
      ],
      "text/plain": [
       "    id                   name\n",
       "0    1       Film & Animation\n",
       "1    2       Autos & Vehicles\n",
       "2   10                  Music\n",
       "3   15         Pets & Animals\n",
       "4   17                 Sports\n",
       "5   18           Short Movies\n",
       "6   19        Travel & Events\n",
       "7   20                 Gaming\n",
       "8   21          Videoblogging\n",
       "9   22         People & Blogs\n",
       "10  23                 Comedy\n",
       "11  24          Entertainment\n",
       "12  25        News & Politics\n",
       "13  26          Howto & Style\n",
       "14  27              Education\n",
       "15  28   Science & Technology\n",
       "16  29  Nonprofits & Activism\n",
       "17  30                 Movies\n",
       "18  31        Anime/Animation\n",
       "19  32       Action/Adventure\n",
       "20  33               Classics\n",
       "21  34                 Comedy\n",
       "22  35            Documentary\n",
       "23  36                  Drama\n",
       "24  37                 Family\n",
       "25  38                Foreign\n",
       "26  39                 Horror\n",
       "27  40         Sci-Fi/Fantasy\n",
       "28  41               Thriller\n",
       "29  42                 Shorts\n",
       "30  43                  Shows\n",
       "31  44               Trailers"
      ]
     },
     "execution_count": 84,
     "metadata": {},
     "output_type": "execute_result"
    }
   ],
   "source": [
    "videoCategories_df"
   ]
  },
  {
   "cell_type": "code",
   "execution_count": 87,
   "metadata": {},
   "outputs": [
    {
     "data": {
      "text/plain": [
       "True"
      ]
     },
     "execution_count": 87,
     "metadata": {},
     "output_type": "execute_result"
    }
   ],
   "source": [
    "# all categories accounted for\n",
    "set(videoCategories_df[\"id\"]).intersection(set(video_df[\"category_id\"])) == set(video_df[\"category_id\"])"
   ]
  },
  {
   "cell_type": "code",
   "execution_count": 89,
   "metadata": {},
   "outputs": [
    {
     "data": {
      "text/plain": [
       "21"
      ]
     },
     "execution_count": 89,
     "metadata": {},
     "output_type": "execute_result"
    }
   ],
   "source": [
    "videoCategories_df[\"name\"].apply(lambda x: len(x)).max()"
   ]
  },
  {
   "cell_type": "markdown",
   "metadata": {},
   "source": [
    "## Load"
   ]
  },
  {
   "cell_type": "code",
   "execution_count": null,
   "metadata": {},
   "outputs": [],
   "source": [
    "categories_dim = \"\"\"CREATE TABLE IF NOT EXISTS categories_dim\n",
    "(\n",
    " category_id int NOT NULL,\n",
    " name        varchar(21) NOT NULL,\n",
    " CONSTRAINT PK_1 PRIMARY KEY ( category_id )\n",
    ");\"\"\"\n",
    "cursor.execute(categories_dim)"
   ]
  }
 ],
 "metadata": {
  "kernelspec": {
   "display_name": "Python 3",
   "language": "python",
   "name": "python3"
  },
  "language_info": {
   "codemirror_mode": {
    "name": "ipython",
    "version": 3
   },
   "file_extension": ".py",
   "mimetype": "text/x-python",
   "name": "python",
   "nbconvert_exporter": "python",
   "pygments_lexer": "ipython3",
   "version": "3.11.5"
  }
 },
 "nbformat": 4,
 "nbformat_minor": 2
}
