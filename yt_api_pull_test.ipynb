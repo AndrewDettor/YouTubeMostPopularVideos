{
 "cells": [
  {
   "cell_type": "markdown",
   "metadata": {},
   "source": [
    "# [YouTube Data API v3 reference](https://developers.google.com/youtube/v3/docs)\n",
    "***\n",
    "# Imports"
   ]
  },
  {
   "cell_type": "code",
   "execution_count": 37,
   "metadata": {},
   "outputs": [
    {
     "name": "stdout",
     "output_type": "stream",
     "text": [
      "Requirement already satisfied: psycopg2-binary in /Library/Frameworks/Python.framework/Versions/3.11/lib/python3.11/site-packages (2.9.9)\n",
      "\n",
      "\u001b[1m[\u001b[0m\u001b[34;49mnotice\u001b[0m\u001b[1;39;49m]\u001b[0m\u001b[39;49m A new release of pip is available: \u001b[0m\u001b[31;49m23.2.1\u001b[0m\u001b[39;49m -> \u001b[0m\u001b[32;49m24.0\u001b[0m\n",
      "\u001b[1m[\u001b[0m\u001b[34;49mnotice\u001b[0m\u001b[1;39;49m]\u001b[0m\u001b[39;49m To update, run: \u001b[0m\u001b[32;49mpip3 install --upgrade pip\u001b[0m\n",
      "Note: you may need to restart the kernel to use updated packages.\n"
     ]
    }
   ],
   "source": [
    "%pip install psycopg2-binary"
   ]
  },
  {
   "cell_type": "code",
   "execution_count": 38,
   "metadata": {},
   "outputs": [],
   "source": [
    "import os\n",
    "from dotenv import load_dotenv\n",
    "import requests\n",
    "from datetime import datetime, timezone\n",
    "import pandas as pd\n",
    "import numpy as np\n",
    "import math\n",
    "import psycopg2"
   ]
  },
  {
   "cell_type": "code",
   "execution_count": 79,
   "metadata": {},
   "outputs": [
    {
     "data": {
      "text/plain": [
       "datetime.datetime(2024, 4, 24, 19, 55, 36, 38846, tzinfo=datetime.timezone.utc)"
      ]
     },
     "execution_count": 79,
     "metadata": {},
     "output_type": "execute_result"
    }
   ],
   "source": [
    "# assume API calls are made at the same exact time\n",
    "\n",
    "script_timestamp = datetime.now(timezone.utc) # YT API uses UTC timezone\n",
    "script_timestamp"
   ]
  },
  {
   "cell_type": "markdown",
   "metadata": {},
   "source": [
    "***\n",
    "# Get API key and DB password"
   ]
  },
  {
   "cell_type": "code",
   "execution_count": 39,
   "metadata": {},
   "outputs": [
    {
     "data": {
      "text/plain": [
       "True"
      ]
     },
     "execution_count": 39,
     "metadata": {},
     "output_type": "execute_result"
    }
   ],
   "source": [
    "# Load environment variables from .env file\n",
    "load_dotenv(\"environment_variables.env\")"
   ]
  },
  {
   "cell_type": "code",
   "execution_count": 40,
   "metadata": {},
   "outputs": [],
   "source": [
    "api_key = os.getenv(\"API_KEY\")\n",
    "psql_pw = os.getenv(\"PSQL_PW\")"
   ]
  },
  {
   "cell_type": "markdown",
   "metadata": {},
   "source": [
    "***\n",
    "# Database Connection"
   ]
  },
  {
   "cell_type": "code",
   "execution_count": 41,
   "metadata": {},
   "outputs": [],
   "source": [
    "host = \"youtubeviewprediction.cd0c8oow2pnr.us-east-1.rds.amazonaws.com\"\n",
    "port = 5432\n",
    "database = \"postgres\"\n",
    "user = \"postgres\""
   ]
  },
  {
   "cell_type": "code",
   "execution_count": 42,
   "metadata": {},
   "outputs": [
    {
     "name": "stdout",
     "output_type": "stream",
     "text": [
      "You are connected to -  ('PostgreSQL 16.1 on x86_64-pc-linux-gnu, compiled by gcc (GCC) 7.3.1 20180712 (Red Hat 7.3.1-12), 64-bit',) \n",
      "\n"
     ]
    }
   ],
   "source": [
    "try:\n",
    "    # Connect to the PostgreSQL database\n",
    "    connection = psycopg2.connect(\n",
    "        host=host,\n",
    "        port=port,\n",
    "        database=database,\n",
    "        user=user,\n",
    "        password=psql_pw\n",
    "    )\n",
    "\n",
    "    # Create a cursor object using the cursor() method\n",
    "    cursor = connection.cursor()\n",
    "\n",
    "    # Execute a SQL query\n",
    "    cursor.execute(\"SELECT version();\")\n",
    "\n",
    "    # Fetch result\n",
    "    record = cursor.fetchone()\n",
    "    print(\"You are connected to - \", record, \"\\n\")\n",
    "\n",
    "except (Exception, psycopg2.Error) as error:\n",
    "    print(\"Error while connecting to PostgreSQL\", error)"
   ]
  },
  {
   "cell_type": "markdown",
   "metadata": {},
   "source": [
    "***\n",
    "# Most popular videos\n",
    "## Extract\n",
    "\n",
    "API limits 200 videos per call across 4 pages."
   ]
  },
  {
   "cell_type": "code",
   "execution_count": 43,
   "metadata": {},
   "outputs": [],
   "source": [
    "videos_api_url = \"https://www.googleapis.com/youtube/v3/videos\""
   ]
  },
  {
   "cell_type": "code",
   "execution_count": 44,
   "metadata": {},
   "outputs": [],
   "source": [
    "def parse_video_json(video):\n",
    "\n",
    "    video_id = video[\"id\"]\n",
    "\n",
    "    # snippet\n",
    "    publish_datetime = video[\"snippet\"][\"publishedAt\"]\n",
    "    channel_id = video[\"snippet\"][\"channelId\"]\n",
    "    video_title = video[\"snippet\"][\"title\"]\n",
    "    video_description = video[\"snippet\"][\"description\"]\n",
    "    channel_title = video[\"snippet\"][\"channelTitle\"]\n",
    "    num_tags = len(video[\"snippet\"].get(\"tags\", [])) # can be null\n",
    "    category_id = video[\"snippet\"][\"categoryId\"]\n",
    "\n",
    "    # contentDetails\n",
    "    duration = video[\"contentDetails\"][\"duration\"]\n",
    "    licensed_content = video[\"contentDetails\"][\"licensedContent\"]\n",
    "\n",
    "    # status\n",
    "    made_for_kids = video[\"status\"][\"madeForKids\"]\n",
    "\n",
    "    # statistics\n",
    "    num_views = video[\"statistics\"][\"viewCount\"]\n",
    "    num_likes = video[\"statistics\"].get(\"likeCount\", None) # can be null\n",
    "    num_comments = video[\"statistics\"].get(\"commentCount\", None) # can be null\n",
    "\n",
    "    return [video_id, \n",
    "            publish_datetime, \n",
    "            channel_id, \n",
    "            video_title,\n",
    "            video_description,\n",
    "            channel_title,\n",
    "            num_tags,\n",
    "            category_id, \n",
    "            duration, \n",
    "            licensed_content, \n",
    "            made_for_kids, \n",
    "            num_views, \n",
    "            num_likes, \n",
    "            num_comments]    "
   ]
  },
  {
   "cell_type": "code",
   "execution_count": 45,
   "metadata": {},
   "outputs": [
    {
     "data": {
      "text/html": [
       "<div>\n",
       "<style scoped>\n",
       "    .dataframe tbody tr th:only-of-type {\n",
       "        vertical-align: middle;\n",
       "    }\n",
       "\n",
       "    .dataframe tbody tr th {\n",
       "        vertical-align: top;\n",
       "    }\n",
       "\n",
       "    .dataframe thead th {\n",
       "        text-align: right;\n",
       "    }\n",
       "</style>\n",
       "<table border=\"1\" class=\"dataframe\">\n",
       "  <thead>\n",
       "    <tr style=\"text-align: right;\">\n",
       "      <th></th>\n",
       "      <th>request_datetime</th>\n",
       "      <th>video_id</th>\n",
       "      <th>publish_datetime</th>\n",
       "      <th>channel_id</th>\n",
       "      <th>video_title</th>\n",
       "      <th>video_description</th>\n",
       "      <th>channel_title</th>\n",
       "      <th>num_tags</th>\n",
       "      <th>category_id</th>\n",
       "      <th>duration</th>\n",
       "      <th>licensed_content</th>\n",
       "      <th>made_for_kids</th>\n",
       "      <th>num_views</th>\n",
       "      <th>num_likes</th>\n",
       "      <th>num_comments</th>\n",
       "    </tr>\n",
       "  </thead>\n",
       "  <tbody>\n",
       "  </tbody>\n",
       "</table>\n",
       "</div>"
      ],
      "text/plain": [
       "Empty DataFrame\n",
       "Columns: [request_datetime, video_id, publish_datetime, channel_id, video_title, video_description, channel_title, num_tags, category_id, duration, licensed_content, made_for_kids, num_views, num_likes, num_comments]\n",
       "Index: []"
      ]
     },
     "execution_count": 45,
     "metadata": {},
     "output_type": "execute_result"
    }
   ],
   "source": [
    "video_df = pd.DataFrame(columns=[\"script_timestamp\", \n",
    "                                 \"video_id\", \n",
    "                                 \"publish_datetime\", \n",
    "                                 \"channel_id\",\n",
    "                                 \"video_title\",\n",
    "                                 \"video_description\",\n",
    "                                 \"channel_title\",\n",
    "                                 \"num_tags\", \n",
    "                                 \"category_id\",  \n",
    "                                 \"duration\", \n",
    "                                 \"licensed_content\", \n",
    "                                 \"made_for_kids\", \n",
    "                                 \"num_views\", \n",
    "                                 \"num_likes\", \n",
    "                                 \"num_comments\"])\n",
    "video_df"
   ]
  },
  {
   "cell_type": "code",
   "execution_count": 46,
   "metadata": {},
   "outputs": [],
   "source": [
    "pageToken = \"\"\n",
    "\n",
    "while pageToken is not None:\n",
    "    params = {\n",
    "        \"key\": api_key,\n",
    "        \"part\": \"id, snippet, contentDetails, status, statistics\",\n",
    "        \"chart\": \"mostPopular\",\n",
    "        \"hl\": \"en\",\n",
    "        \"regionCode\": \"US\",\n",
    "        \"maxResults\": 50,\n",
    "        \"pageToken\": pageToken\n",
    "    }\n",
    "    \n",
    "    response = requests.get(videos_api_url, params=params)\n",
    "\n",
    "    if response.status_code == 200:\n",
    "        response_json = response.json()\n",
    "\n",
    "        for video in response_json[\"items\"]:\n",
    "            # add video details and datetime of request to end of video dataframe\n",
    "            video_df.loc[len(video_df)] = [script_timestamp] + parse_video_json(video)\n",
    "\n",
    "        # get nextPageToken with null safety\n",
    "        pageToken = response_json.get(\"nextPageToken\", None)\n",
    "\n",
    "    else:\n",
    "        print(f\"response.status_code = {response.status_code}\")\n",
    "        pageToken = None\n",
    "    "
   ]
  },
  {
   "cell_type": "code",
   "execution_count": 47,
   "metadata": {},
   "outputs": [
    {
     "data": {
      "text/html": [
       "<div>\n",
       "<style scoped>\n",
       "    .dataframe tbody tr th:only-of-type {\n",
       "        vertical-align: middle;\n",
       "    }\n",
       "\n",
       "    .dataframe tbody tr th {\n",
       "        vertical-align: top;\n",
       "    }\n",
       "\n",
       "    .dataframe thead th {\n",
       "        text-align: right;\n",
       "    }\n",
       "</style>\n",
       "<table border=\"1\" class=\"dataframe\">\n",
       "  <thead>\n",
       "    <tr style=\"text-align: right;\">\n",
       "      <th></th>\n",
       "      <th>request_datetime</th>\n",
       "      <th>video_id</th>\n",
       "      <th>publish_datetime</th>\n",
       "      <th>channel_id</th>\n",
       "      <th>video_title</th>\n",
       "      <th>video_description</th>\n",
       "      <th>channel_title</th>\n",
       "      <th>num_tags</th>\n",
       "      <th>category_id</th>\n",
       "      <th>duration</th>\n",
       "      <th>licensed_content</th>\n",
       "      <th>made_for_kids</th>\n",
       "      <th>num_views</th>\n",
       "      <th>num_likes</th>\n",
       "      <th>num_comments</th>\n",
       "    </tr>\n",
       "  </thead>\n",
       "  <tbody>\n",
       "    <tr>\n",
       "      <th>0</th>\n",
       "      <td>2024-04-24 19:09:47.072439+00:00</td>\n",
       "      <td>cen0rBKLuYE</td>\n",
       "      <td>2024-04-22T12:55:17Z</td>\n",
       "      <td>UCA3-nIYWu4PTWkb6NwhEpzg</td>\n",
       "      <td>Deadpool &amp; Wolverine | Trailer</td>\n",
       "      <td>Found the guy who killed Bambi’s mom. #Deadpoo...</td>\n",
       "      <td>Ryan Reynolds</td>\n",
       "      <td>11</td>\n",
       "      <td>24</td>\n",
       "      <td>PT2M39S</td>\n",
       "      <td>True</td>\n",
       "      <td>False</td>\n",
       "      <td>26234383</td>\n",
       "      <td>1317506</td>\n",
       "      <td>55009</td>\n",
       "    </tr>\n",
       "    <tr>\n",
       "      <th>1</th>\n",
       "      <td>2024-04-24 19:09:47.072439+00:00</td>\n",
       "      <td>u5CSHhLkTdQ</td>\n",
       "      <td>2024-04-24T00:28:28Z</td>\n",
       "      <td>UC7yRILFFJ2QZCykymr8LPwA</td>\n",
       "      <td>DEADPOOL &amp; WOLVERINE TRAILER BREAKDOWN! Easter...</td>\n",
       "      <td>Deadpool &amp; Wolverine Trailer frame-by-frame br...</td>\n",
       "      <td>New Rockstars</td>\n",
       "      <td>3</td>\n",
       "      <td>24</td>\n",
       "      <td>PT33M37S</td>\n",
       "      <td>True</td>\n",
       "      <td>False</td>\n",
       "      <td>664298</td>\n",
       "      <td>34175</td>\n",
       "      <td>1583</td>\n",
       "    </tr>\n",
       "    <tr>\n",
       "      <th>2</th>\n",
       "      <td>2024-04-24 19:09:47.072439+00:00</td>\n",
       "      <td>UkCIzRKKEao</td>\n",
       "      <td>2024-04-23T18:01:53Z</td>\n",
       "      <td>UC7zsxKqd5MicTf4VhS9Y74g</td>\n",
       "      <td>Fitness Influencers Pretending to be Monkeys</td>\n",
       "      <td>💻 Thanks to Opera for sponsoring this video! G...</td>\n",
       "      <td>Kurtis Conner</td>\n",
       "      <td>2</td>\n",
       "      <td>23</td>\n",
       "      <td>PT21M23S</td>\n",
       "      <td>True</td>\n",
       "      <td>False</td>\n",
       "      <td>922724</td>\n",
       "      <td>81330</td>\n",
       "      <td>5152</td>\n",
       "    </tr>\n",
       "    <tr>\n",
       "      <th>3</th>\n",
       "      <td>2024-04-24 19:09:47.072439+00:00</td>\n",
       "      <td>4fn7c1s7J5s</td>\n",
       "      <td>2024-04-23T19:00:02Z</td>\n",
       "      <td>UCdLf5_x-4eic2Hw-uovjdKA</td>\n",
       "      <td>Rick Ross - Champagne Moments (Official Music ...</td>\n",
       "      <td>Official music video for Champagne Moments\\nAv...</td>\n",
       "      <td>RickRossVEVO</td>\n",
       "      <td>14</td>\n",
       "      <td>10</td>\n",
       "      <td>PT3M34S</td>\n",
       "      <td>True</td>\n",
       "      <td>False</td>\n",
       "      <td>3106658</td>\n",
       "      <td>40453</td>\n",
       "      <td>5423</td>\n",
       "    </tr>\n",
       "    <tr>\n",
       "      <th>4</th>\n",
       "      <td>2024-04-24 19:09:47.072439+00:00</td>\n",
       "      <td>U6UpFiaD7Po</td>\n",
       "      <td>2024-04-23T04:46:26Z</td>\n",
       "      <td>UCWJ2lWNubArHWmf3FIHbfcQ</td>\n",
       "      <td>#7 LAKERS at #2 NUGGETS | FULL GAME 2 HIGHLIGH...</td>\n",
       "      <td>Never miss a moment with the latest news, tren...</td>\n",
       "      <td>NBA</td>\n",
       "      <td>4</td>\n",
       "      <td>17</td>\n",
       "      <td>PT9M59S</td>\n",
       "      <td>True</td>\n",
       "      <td>False</td>\n",
       "      <td>2140464</td>\n",
       "      <td>24189</td>\n",
       "      <td>5888</td>\n",
       "    </tr>\n",
       "    <tr>\n",
       "      <th>...</th>\n",
       "      <td>...</td>\n",
       "      <td>...</td>\n",
       "      <td>...</td>\n",
       "      <td>...</td>\n",
       "      <td>...</td>\n",
       "      <td>...</td>\n",
       "      <td>...</td>\n",
       "      <td>...</td>\n",
       "      <td>...</td>\n",
       "      <td>...</td>\n",
       "      <td>...</td>\n",
       "      <td>...</td>\n",
       "      <td>...</td>\n",
       "      <td>...</td>\n",
       "      <td>...</td>\n",
       "    </tr>\n",
       "    <tr>\n",
       "      <th>195</th>\n",
       "      <td>2024-04-24 19:09:48.784389+00:00</td>\n",
       "      <td>tFPcx4X9-e8</td>\n",
       "      <td>2024-04-19T13:00:50Z</td>\n",
       "      <td>UC0AE_22J0kAo30yjasaeFqw</td>\n",
       "      <td>VILLAGER NEWS: BREAKING NEWS! 🎵🎵🎵Minecraft Ani...</td>\n",
       "      <td>Shockbyte - https://www.shockbyte.com/panel\\nT...</td>\n",
       "      <td>Element Animation</td>\n",
       "      <td>0</td>\n",
       "      <td>20</td>\n",
       "      <td>PT7M17S</td>\n",
       "      <td>True</td>\n",
       "      <td>False</td>\n",
       "      <td>894091</td>\n",
       "      <td>101246</td>\n",
       "      <td>5408</td>\n",
       "    </tr>\n",
       "    <tr>\n",
       "      <th>196</th>\n",
       "      <td>2024-04-24 19:09:48.784389+00:00</td>\n",
       "      <td>xZP-qqwsGns</td>\n",
       "      <td>2024-04-19T04:00:54Z</td>\n",
       "      <td>UCiIETTq2It3OzW8_WYRPTyQ</td>\n",
       "      <td>Russ - That's My Girl (Official Audio)</td>\n",
       "      <td>Russ - \"That's My Girl” (Official Audio)\\n\\n\\n...</td>\n",
       "      <td>Russ</td>\n",
       "      <td>11</td>\n",
       "      <td>10</td>\n",
       "      <td>PT2M15S</td>\n",
       "      <td>True</td>\n",
       "      <td>False</td>\n",
       "      <td>359769</td>\n",
       "      <td>18133</td>\n",
       "      <td>580</td>\n",
       "    </tr>\n",
       "    <tr>\n",
       "      <th>197</th>\n",
       "      <td>2024-04-24 19:09:48.784389+00:00</td>\n",
       "      <td>erLbbextvlY</td>\n",
       "      <td>2024-03-30T16:00:01Z</td>\n",
       "      <td>UCX6OQ3DkcsbYNE6H8uQQuVA</td>\n",
       "      <td>7 Days Stranded On An Island</td>\n",
       "      <td>I can’t believe we actually did this\\nSend mon...</td>\n",
       "      <td>MrBeast</td>\n",
       "      <td>0</td>\n",
       "      <td>24</td>\n",
       "      <td>PT22M26S</td>\n",
       "      <td>True</td>\n",
       "      <td>False</td>\n",
       "      <td>129451892</td>\n",
       "      <td>4993538</td>\n",
       "      <td>139113</td>\n",
       "    </tr>\n",
       "    <tr>\n",
       "      <th>198</th>\n",
       "      <td>2024-04-24 19:09:48.784389+00:00</td>\n",
       "      <td>Ih3RO7G-Rkw</td>\n",
       "      <td>2024-04-20T18:34:44Z</td>\n",
       "      <td>UCChcWqwYXCEs657MQ00qVWA</td>\n",
       "      <td>Manchester City v Chelsea | Key Moments | Semi...</td>\n",
       "      <td>Watch the key moments between Manchester City ...</td>\n",
       "      <td>The Emirates FA Cup</td>\n",
       "      <td>3</td>\n",
       "      <td>17</td>\n",
       "      <td>PT3M18S</td>\n",
       "      <td>True</td>\n",
       "      <td>False</td>\n",
       "      <td>3534484</td>\n",
       "      <td>35155</td>\n",
       "      <td>2134</td>\n",
       "    </tr>\n",
       "    <tr>\n",
       "      <th>199</th>\n",
       "      <td>2024-04-24 19:09:48.784389+00:00</td>\n",
       "      <td>m8BTmgep_1o</td>\n",
       "      <td>2024-04-19T14:30:26Z</td>\n",
       "      <td>UCop6604O_QwmEum6e0Riz2w</td>\n",
       "      <td>Rating Messi vs Ronaldo Products!</td>\n",
       "      <td>pls like this video\\n\\nTwitter https://twitter...</td>\n",
       "      <td>Futcrunch</td>\n",
       "      <td>10</td>\n",
       "      <td>17</td>\n",
       "      <td>PT16M53S</td>\n",
       "      <td>True</td>\n",
       "      <td>False</td>\n",
       "      <td>2425691</td>\n",
       "      <td>40755</td>\n",
       "      <td>1478</td>\n",
       "    </tr>\n",
       "  </tbody>\n",
       "</table>\n",
       "<p>200 rows × 15 columns</p>\n",
       "</div>"
      ],
      "text/plain": [
       "                    request_datetime     video_id      publish_datetime  \\\n",
       "0   2024-04-24 19:09:47.072439+00:00  cen0rBKLuYE  2024-04-22T12:55:17Z   \n",
       "1   2024-04-24 19:09:47.072439+00:00  u5CSHhLkTdQ  2024-04-24T00:28:28Z   \n",
       "2   2024-04-24 19:09:47.072439+00:00  UkCIzRKKEao  2024-04-23T18:01:53Z   \n",
       "3   2024-04-24 19:09:47.072439+00:00  4fn7c1s7J5s  2024-04-23T19:00:02Z   \n",
       "4   2024-04-24 19:09:47.072439+00:00  U6UpFiaD7Po  2024-04-23T04:46:26Z   \n",
       "..                               ...          ...                   ...   \n",
       "195 2024-04-24 19:09:48.784389+00:00  tFPcx4X9-e8  2024-04-19T13:00:50Z   \n",
       "196 2024-04-24 19:09:48.784389+00:00  xZP-qqwsGns  2024-04-19T04:00:54Z   \n",
       "197 2024-04-24 19:09:48.784389+00:00  erLbbextvlY  2024-03-30T16:00:01Z   \n",
       "198 2024-04-24 19:09:48.784389+00:00  Ih3RO7G-Rkw  2024-04-20T18:34:44Z   \n",
       "199 2024-04-24 19:09:48.784389+00:00  m8BTmgep_1o  2024-04-19T14:30:26Z   \n",
       "\n",
       "                   channel_id  \\\n",
       "0    UCA3-nIYWu4PTWkb6NwhEpzg   \n",
       "1    UC7yRILFFJ2QZCykymr8LPwA   \n",
       "2    UC7zsxKqd5MicTf4VhS9Y74g   \n",
       "3    UCdLf5_x-4eic2Hw-uovjdKA   \n",
       "4    UCWJ2lWNubArHWmf3FIHbfcQ   \n",
       "..                        ...   \n",
       "195  UC0AE_22J0kAo30yjasaeFqw   \n",
       "196  UCiIETTq2It3OzW8_WYRPTyQ   \n",
       "197  UCX6OQ3DkcsbYNE6H8uQQuVA   \n",
       "198  UCChcWqwYXCEs657MQ00qVWA   \n",
       "199  UCop6604O_QwmEum6e0Riz2w   \n",
       "\n",
       "                                           video_title  \\\n",
       "0                       Deadpool & Wolverine | Trailer   \n",
       "1    DEADPOOL & WOLVERINE TRAILER BREAKDOWN! Easter...   \n",
       "2         Fitness Influencers Pretending to be Monkeys   \n",
       "3    Rick Ross - Champagne Moments (Official Music ...   \n",
       "4    #7 LAKERS at #2 NUGGETS | FULL GAME 2 HIGHLIGH...   \n",
       "..                                                 ...   \n",
       "195  VILLAGER NEWS: BREAKING NEWS! 🎵🎵🎵Minecraft Ani...   \n",
       "196             Russ - That's My Girl (Official Audio)   \n",
       "197                       7 Days Stranded On An Island   \n",
       "198  Manchester City v Chelsea | Key Moments | Semi...   \n",
       "199                  Rating Messi vs Ronaldo Products!   \n",
       "\n",
       "                                     video_description        channel_title  \\\n",
       "0    Found the guy who killed Bambi’s mom. #Deadpoo...        Ryan Reynolds   \n",
       "1    Deadpool & Wolverine Trailer frame-by-frame br...        New Rockstars   \n",
       "2    💻 Thanks to Opera for sponsoring this video! G...        Kurtis Conner   \n",
       "3    Official music video for Champagne Moments\\nAv...         RickRossVEVO   \n",
       "4    Never miss a moment with the latest news, tren...                  NBA   \n",
       "..                                                 ...                  ...   \n",
       "195  Shockbyte - https://www.shockbyte.com/panel\\nT...    Element Animation   \n",
       "196  Russ - \"That's My Girl” (Official Audio)\\n\\n\\n...                 Russ   \n",
       "197  I can’t believe we actually did this\\nSend mon...              MrBeast   \n",
       "198  Watch the key moments between Manchester City ...  The Emirates FA Cup   \n",
       "199  pls like this video\\n\\nTwitter https://twitter...            Futcrunch   \n",
       "\n",
       "     num_tags category_id  duration  licensed_content  made_for_kids  \\\n",
       "0          11          24   PT2M39S              True          False   \n",
       "1           3          24  PT33M37S              True          False   \n",
       "2           2          23  PT21M23S              True          False   \n",
       "3          14          10   PT3M34S              True          False   \n",
       "4           4          17   PT9M59S              True          False   \n",
       "..        ...         ...       ...               ...            ...   \n",
       "195         0          20   PT7M17S              True          False   \n",
       "196        11          10   PT2M15S              True          False   \n",
       "197         0          24  PT22M26S              True          False   \n",
       "198         3          17   PT3M18S              True          False   \n",
       "199        10          17  PT16M53S              True          False   \n",
       "\n",
       "     num_views num_likes num_comments  \n",
       "0     26234383   1317506        55009  \n",
       "1       664298     34175         1583  \n",
       "2       922724     81330         5152  \n",
       "3      3106658     40453         5423  \n",
       "4      2140464     24189         5888  \n",
       "..         ...       ...          ...  \n",
       "195     894091    101246         5408  \n",
       "196     359769     18133          580  \n",
       "197  129451892   4993538       139113  \n",
       "198    3534484     35155         2134  \n",
       "199    2425691     40755         1478  \n",
       "\n",
       "[200 rows x 15 columns]"
      ]
     },
     "execution_count": 47,
     "metadata": {},
     "output_type": "execute_result"
    }
   ],
   "source": [
    "video_df"
   ]
  },
  {
   "cell_type": "code",
   "execution_count": 48,
   "metadata": {},
   "outputs": [
    {
     "data": {
      "text/plain": [
       "request_datetime     0\n",
       "video_id             0\n",
       "publish_datetime     0\n",
       "channel_id           0\n",
       "video_title          0\n",
       "video_description    0\n",
       "channel_title        0\n",
       "num_tags             0\n",
       "category_id          0\n",
       "duration             0\n",
       "licensed_content     0\n",
       "made_for_kids        0\n",
       "num_views            0\n",
       "num_likes            0\n",
       "num_comments         0\n",
       "dtype: int64"
      ]
     },
     "execution_count": 48,
     "metadata": {},
     "output_type": "execute_result"
    }
   ],
   "source": [
    "video_df.isna().sum()"
   ]
  },
  {
   "cell_type": "markdown",
   "metadata": {},
   "source": [
    "## Transform"
   ]
  },
  {
   "cell_type": "code",
   "execution_count": 49,
   "metadata": {},
   "outputs": [
    {
     "data": {
      "text/plain": [
       "request_datetime     datetime64[ns, UTC]\n",
       "video_id                          object\n",
       "publish_datetime                  object\n",
       "channel_id                        object\n",
       "video_title                       object\n",
       "video_description                 object\n",
       "channel_title                     object\n",
       "num_tags                           int64\n",
       "category_id                       object\n",
       "duration                          object\n",
       "licensed_content                    bool\n",
       "made_for_kids                       bool\n",
       "num_views                         object\n",
       "num_likes                         object\n",
       "num_comments                      object\n",
       "dtype: object"
      ]
     },
     "execution_count": 49,
     "metadata": {},
     "output_type": "execute_result"
    }
   ],
   "source": [
    "# fix datatypes\n",
    "video_df.dtypes"
   ]
  },
  {
   "cell_type": "code",
   "execution_count": 50,
   "metadata": {},
   "outputs": [
    {
     "data": {
      "text/html": [
       "<div>\n",
       "<style scoped>\n",
       "    .dataframe tbody tr th:only-of-type {\n",
       "        vertical-align: middle;\n",
       "    }\n",
       "\n",
       "    .dataframe tbody tr th {\n",
       "        vertical-align: top;\n",
       "    }\n",
       "\n",
       "    .dataframe thead th {\n",
       "        text-align: right;\n",
       "    }\n",
       "</style>\n",
       "<table border=\"1\" class=\"dataframe\">\n",
       "  <thead>\n",
       "    <tr style=\"text-align: right;\">\n",
       "      <th></th>\n",
       "      <th>request_datetime</th>\n",
       "      <th>video_id</th>\n",
       "      <th>publish_datetime</th>\n",
       "      <th>channel_id</th>\n",
       "      <th>video_title</th>\n",
       "      <th>video_description</th>\n",
       "      <th>channel_title</th>\n",
       "      <th>num_tags</th>\n",
       "      <th>category_id</th>\n",
       "      <th>duration</th>\n",
       "      <th>licensed_content</th>\n",
       "      <th>made_for_kids</th>\n",
       "      <th>num_views</th>\n",
       "      <th>num_likes</th>\n",
       "      <th>num_comments</th>\n",
       "    </tr>\n",
       "  </thead>\n",
       "  <tbody>\n",
       "    <tr>\n",
       "      <th>71</th>\n",
       "      <td>2024-04-24 19:09:47.931428+00:00</td>\n",
       "      <td>9rxIfPvcbmI</td>\n",
       "      <td>2024-04-22T01:40:12Z</td>\n",
       "      <td>UC3cpN6gcJQqcCM6mxRUo_dA</td>\n",
       "      <td>The Weirdest &amp; Coolest Cryptids So Far</td>\n",
       "      <td>Use code WENDIGOON50 to get 50% OFF your first...</td>\n",
       "      <td>Wendigoon</td>\n",
       "      <td>55</td>\n",
       "      <td>24</td>\n",
       "      <td>PT44M51S</td>\n",
       "      <td>True</td>\n",
       "      <td>False</td>\n",
       "      <td>593660</td>\n",
       "      <td>35601</td>\n",
       "      <td>2757</td>\n",
       "    </tr>\n",
       "  </tbody>\n",
       "</table>\n",
       "</div>"
      ],
      "text/plain": [
       "                   request_datetime     video_id      publish_datetime  \\\n",
       "71 2024-04-24 19:09:47.931428+00:00  9rxIfPvcbmI  2024-04-22T01:40:12Z   \n",
       "\n",
       "                  channel_id                             video_title  \\\n",
       "71  UC3cpN6gcJQqcCM6mxRUo_dA  The Weirdest & Coolest Cryptids So Far   \n",
       "\n",
       "                                    video_description channel_title  num_tags  \\\n",
       "71  Use code WENDIGOON50 to get 50% OFF your first...     Wendigoon        55   \n",
       "\n",
       "   category_id  duration  licensed_content  made_for_kids num_views num_likes  \\\n",
       "71          24  PT44M51S              True          False    593660     35601   \n",
       "\n",
       "   num_comments  \n",
       "71         2757  "
      ]
     },
     "execution_count": 50,
     "metadata": {},
     "output_type": "execute_result"
    }
   ],
   "source": [
    "video_df.sample(1)"
   ]
  },
  {
   "cell_type": "markdown",
   "metadata": {},
   "source": [
    "### Turn publish_datetime into datetime"
   ]
  },
  {
   "cell_type": "code",
   "execution_count": 51,
   "metadata": {},
   "outputs": [],
   "source": [
    "# turn publish_datetime into datetime\n",
    "video_df[\"publish_datetime\"] = pd.to_datetime(video_df[\"publish_datetime\"], format=\"ISO8601\")"
   ]
  },
  {
   "cell_type": "markdown",
   "metadata": {},
   "source": [
    "### Parse duration in minutes from duration"
   ]
  },
  {
   "cell_type": "code",
   "execution_count": 52,
   "metadata": {},
   "outputs": [
    {
     "data": {
      "text/plain": [
       "0       PT2M39S\n",
       "1      PT33M37S\n",
       "2      PT21M23S\n",
       "3       PT3M34S\n",
       "4       PT9M59S\n",
       "         ...   \n",
       "195     PT7M17S\n",
       "196     PT2M15S\n",
       "197    PT22M26S\n",
       "198     PT3M18S\n",
       "199    PT16M53S\n",
       "Name: duration, Length: 200, dtype: object"
      ]
     },
     "execution_count": 52,
     "metadata": {},
     "output_type": "execute_result"
    }
   ],
   "source": [
    "video_df[\"duration\"]"
   ]
  },
  {
   "cell_type": "code",
   "execution_count": 53,
   "metadata": {},
   "outputs": [],
   "source": [
    "video_df[\"duration\"] = pd.to_timedelta(video_df[\"duration\"]).apply(lambda x: x.seconds)\n",
    "video_df.rename(columns={\"duration\": \"duration_seconds\"}, inplace=True)"
   ]
  },
  {
   "cell_type": "markdown",
   "metadata": {},
   "source": [
    "### Turn num_view, num_likes, and num_comments into ints"
   ]
  },
  {
   "cell_type": "code",
   "execution_count": 54,
   "metadata": {},
   "outputs": [
    {
     "data": {
      "text/plain": [
       "num_views       0\n",
       "num_likes       0\n",
       "num_comments    0\n",
       "dtype: int64"
      ]
     },
     "execution_count": 54,
     "metadata": {},
     "output_type": "execute_result"
    }
   ],
   "source": [
    "video_df[[\"num_views\", \"num_likes\", \"num_comments\"]].isna().sum()"
   ]
  },
  {
   "cell_type": "code",
   "execution_count": 55,
   "metadata": {},
   "outputs": [
    {
     "data": {
      "text/plain": [
       "num_views       0\n",
       "num_likes       0\n",
       "num_comments    0\n",
       "dtype: int64"
      ]
     },
     "execution_count": 55,
     "metadata": {},
     "output_type": "execute_result"
    }
   ],
   "source": [
    "video_df[[\"num_views\", \"num_likes\", \"num_comments\"]] = video_df[[\"num_views\", \"num_likes\", \"num_comments\"]].fillna(0)\n",
    "video_df[[\"num_views\", \"num_likes\", \"num_comments\"]].isna().sum()"
   ]
  },
  {
   "cell_type": "code",
   "execution_count": 56,
   "metadata": {},
   "outputs": [],
   "source": [
    "video_df[[\"num_views\", \"num_likes\", \"num_comments\"]] = video_df[[\"num_views\", \"num_likes\", \"num_comments\"]].astype(dtype=\"int\")"
   ]
  },
  {
   "cell_type": "code",
   "execution_count": 57,
   "metadata": {},
   "outputs": [
    {
     "data": {
      "text/plain": [
       "request_datetime     datetime64[ns, UTC]\n",
       "video_id                          object\n",
       "publish_datetime     datetime64[ns, UTC]\n",
       "channel_id                        object\n",
       "video_title                       object\n",
       "video_description                 object\n",
       "channel_title                     object\n",
       "num_tags                           int64\n",
       "category_id                       object\n",
       "duration_seconds                   int64\n",
       "licensed_content                    bool\n",
       "made_for_kids                       bool\n",
       "num_views                          int64\n",
       "num_likes                          int64\n",
       "num_comments                       int64\n",
       "dtype: object"
      ]
     },
     "execution_count": 57,
     "metadata": {},
     "output_type": "execute_result"
    }
   ],
   "source": [
    "video_df.dtypes"
   ]
  },
  {
   "cell_type": "code",
   "execution_count": 77,
   "metadata": {},
   "outputs": [
    {
     "data": {
      "text/plain": [
       "video_id\n",
       "11    200\n",
       "Name: count, dtype: int64"
      ]
     },
     "execution_count": 77,
     "metadata": {},
     "output_type": "execute_result"
    }
   ],
   "source": [
    "video_df[\"cate\"].apply(lambda x: len(x)).value_counts()"
   ]
  },
  {
   "cell_type": "markdown",
   "metadata": {},
   "source": [
    "## Load"
   ]
  },
  {
   "cell_type": "code",
   "execution_count": null,
   "metadata": {},
   "outputs": [],
   "source": [
    "\"\"\"CREATE TABLE IF NOT EXISTS video_fact\n",
    "(\n",
    " datetime     timestamp NOT NULL,\n",
    " video_id     varchar(11) NOT NULL,\n",
    " num_views    int NOT NULL,\n",
    " num_likes    int NOT NULL,\n",
    " num_comments int NOT NULL,\n",
    " CONSTRAINT PK_1 PRIMARY KEY ( datetime, video_id )\n",
    ");\"\"\""
   ]
  },
  {
   "cell_type": "code",
   "execution_count": null,
   "metadata": {},
   "outputs": [],
   "source": [
    "\"\"\"CREATE TABLE IF NOT EXISTS video_dim\n",
    "(\n",
    " video_id      varchar(11) NOT NULL,\n",
    " channel_id    varchar(24) NOT NULL,\n",
    " title         varchar(100) NOT NULL,\n",
    " description   varchar(5000) NOT NULL,\n",
    " num_tags      int NOT NULL,\n",
    " duration_sec  int NOT NULL,\n",
    " licensed      boolean NOT NULL,\n",
    " made_for_kids boolean NOT NULL,\n",
    " published_at  timestamp NOT NULL,\n",
    " category_id   int NOT NULL,\n",
    " CONSTRAINT PK_1 PRIMARY KEY ( video_id )\n",
    ");\"\"\""
   ]
  },
  {
   "cell_type": "markdown",
   "metadata": {},
   "source": [
    "***\n",
    "# Channel metadata from top 200 videos\n",
    "## Extract\n",
    "API limits 50 channels per call with no pages."
   ]
  },
  {
   "cell_type": "code",
   "execution_count": 63,
   "metadata": {},
   "outputs": [],
   "source": [
    "unique_channel_ids = video_df[\"channel_id\"].unique()"
   ]
  },
  {
   "cell_type": "code",
   "execution_count": 59,
   "metadata": {},
   "outputs": [],
   "source": [
    "channels_api_url = \"https://www.googleapis.com/youtube/v3/channels\""
   ]
  },
  {
   "cell_type": "code",
   "execution_count": 60,
   "metadata": {},
   "outputs": [],
   "source": [
    "def parse_channel_json(channel):\n",
    "    channel_id = channel[\"id\"]\n",
    "\n",
    "    # snippet\n",
    "    channel_created_datetime = channel[\"snippet\"][\"publishedAt\"]\n",
    "    channel_name = channel[\"snippet\"][\"title\"]\n",
    "\n",
    "    # statistics\n",
    "    channel_total_views = channel[\"statistics\"].get(\"viewCount\", None)\n",
    "    channel_num_subscribers = channel[\"statistics\"].get(\"subscriberCount\", None)\n",
    "    channel_num_videos = channel[\"statistics\"].get(\"videoCount\", None)\n",
    "\n",
    "    return [channel_id, \n",
    "            channel_created_datetime,\n",
    "            channel_name, \n",
    "            channel_total_views, \n",
    "            channel_num_subscribers,\n",
    "            channel_num_videos]    "
   ]
  },
  {
   "cell_type": "code",
   "execution_count": 64,
   "metadata": {},
   "outputs": [
    {
     "data": {
      "text/plain": [
       "33"
      ]
     },
     "execution_count": 64,
     "metadata": {},
     "output_type": "execute_result"
    }
   ],
   "source": [
    "len(unique_channel_ids) % 50"
   ]
  },
  {
   "cell_type": "code",
   "execution_count": 65,
   "metadata": {},
   "outputs": [
    {
     "data": {
      "text/plain": [
       "[50, 50, 50, 33]"
      ]
     },
     "execution_count": 65,
     "metadata": {},
     "output_type": "execute_result"
    }
   ],
   "source": [
    "# https://stackoverflow.com/questions/312443/how-do-i-split-a-list-into-equally-sized-chunks\n",
    "def chunks(lst, n):\n",
    "    return [lst[i:i + n] for i in range(0, len(lst), n)]\n",
    "\n",
    "channels_chunked = chunks(unique_channel_ids, 50)\n",
    "[len(chunk) for chunk in channels_chunked] # chunks = # API calls"
   ]
  },
  {
   "cell_type": "code",
   "execution_count": 66,
   "metadata": {},
   "outputs": [
    {
     "data": {
      "text/html": [
       "<div>\n",
       "<style scoped>\n",
       "    .dataframe tbody tr th:only-of-type {\n",
       "        vertical-align: middle;\n",
       "    }\n",
       "\n",
       "    .dataframe tbody tr th {\n",
       "        vertical-align: top;\n",
       "    }\n",
       "\n",
       "    .dataframe thead th {\n",
       "        text-align: right;\n",
       "    }\n",
       "</style>\n",
       "<table border=\"1\" class=\"dataframe\">\n",
       "  <thead>\n",
       "    <tr style=\"text-align: right;\">\n",
       "      <th></th>\n",
       "      <th>request_datetime</th>\n",
       "      <th>id</th>\n",
       "      <th>created_datetime</th>\n",
       "      <th>total_views</th>\n",
       "      <th>num_subscribers</th>\n",
       "      <th>num_videos</th>\n",
       "    </tr>\n",
       "  </thead>\n",
       "  <tbody>\n",
       "  </tbody>\n",
       "</table>\n",
       "</div>"
      ],
      "text/plain": [
       "Empty DataFrame\n",
       "Columns: [request_datetime, id, created_datetime, total_views, num_subscribers, num_videos]\n",
       "Index: []"
      ]
     },
     "execution_count": 66,
     "metadata": {},
     "output_type": "execute_result"
    }
   ],
   "source": [
    "channel_df = pd.DataFrame(columns=[\"request_datetime\", \n",
    "                                \"id\", \n",
    "                                \"created_datetime\", \n",
    "                                \"name\"\n",
    "                                \"total_views\", \n",
    "                                \"num_subscribers\",\n",
    "                                \"num_videos\"])\n",
    "channel_df"
   ]
  },
  {
   "cell_type": "code",
   "execution_count": 67,
   "metadata": {},
   "outputs": [],
   "source": [
    "for channels in channels_chunked:\n",
    "    params = {\n",
    "        \"key\": api_key,\n",
    "        \"part\": \"id, snippet, statistics\",\n",
    "        \"id\": \", \".join(channels),\n",
    "        \"maxResults\": 50,\n",
    "    }\n",
    "\n",
    "    response = requests.get(channels_api_url, params=params)\n",
    "\n",
    "    if response.status_code == 200:\n",
    "        response_json = response.json()\n",
    "\n",
    "        for channel in response_json[\"items\"]:\n",
    "            # add channel details and datetime of request to end of video dataframe\n",
    "            channel_df.loc[len(channel_df)] = [script_timestamp] + parse_channel_json(channel)\n",
    "\n",
    "    else:\n",
    "        print(f\"response.status_code = {response.status_code}\")"
   ]
  },
  {
   "cell_type": "code",
   "execution_count": 68,
   "metadata": {},
   "outputs": [
    {
     "data": {
      "text/plain": [
       "(183, 6)"
      ]
     },
     "execution_count": 68,
     "metadata": {},
     "output_type": "execute_result"
    }
   ],
   "source": [
    "channel_df.shape"
   ]
  },
  {
   "cell_type": "markdown",
   "metadata": {},
   "source": [
    "## Transform"
   ]
  },
  {
   "cell_type": "code",
   "execution_count": 69,
   "metadata": {},
   "outputs": [
    {
     "data": {
      "text/plain": [
       "request_datetime    datetime64[ns, UTC]\n",
       "id                               object\n",
       "created_datetime                 object\n",
       "total_views                      object\n",
       "num_subscribers                  object\n",
       "num_videos                       object\n",
       "dtype: object"
      ]
     },
     "execution_count": 69,
     "metadata": {},
     "output_type": "execute_result"
    }
   ],
   "source": [
    "# fix datatypes\n",
    "channel_df.dtypes"
   ]
  },
  {
   "cell_type": "markdown",
   "metadata": {},
   "source": [
    "### Turn created_datetime into datetime"
   ]
  },
  {
   "cell_type": "code",
   "execution_count": 70,
   "metadata": {},
   "outputs": [],
   "source": [
    "channel_df[\"created_datetime\"] = pd.to_datetime(channel_df[\"created_datetime\"], format=\"ISO8601\")"
   ]
  },
  {
   "cell_type": "markdown",
   "metadata": {},
   "source": [
    "### Turn total_views, num_subscribers, num_videos into ints"
   ]
  },
  {
   "cell_type": "code",
   "execution_count": 71,
   "metadata": {},
   "outputs": [
    {
     "data": {
      "text/plain": [
       "total_views        0\n",
       "num_subscribers    0\n",
       "num_videos         0\n",
       "dtype: int64"
      ]
     },
     "execution_count": 71,
     "metadata": {},
     "output_type": "execute_result"
    }
   ],
   "source": [
    "channel_df[[\"total_views\", \"num_subscribers\", \"num_videos\"]].isna().sum()"
   ]
  },
  {
   "cell_type": "code",
   "execution_count": 72,
   "metadata": {},
   "outputs": [
    {
     "data": {
      "text/plain": [
       "total_views        0\n",
       "num_subscribers    0\n",
       "num_videos         0\n",
       "dtype: int64"
      ]
     },
     "execution_count": 72,
     "metadata": {},
     "output_type": "execute_result"
    }
   ],
   "source": [
    "channel_df[[\"total_views\", \"num_subscribers\", \"num_videos\"]] = channel_df[[\"total_views\", \"num_subscribers\", \"num_videos\"]].fillna(0)\n",
    "channel_df[[\"total_views\", \"num_subscribers\", \"num_videos\"]].isna().sum()"
   ]
  },
  {
   "cell_type": "code",
   "execution_count": 73,
   "metadata": {},
   "outputs": [],
   "source": [
    "channel_df[[\"total_views\", \"num_subscribers\", \"num_videos\"]] = channel_df[[\"total_views\", \"num_subscribers\", \"num_videos\"]].astype(dtype=\"int\")"
   ]
  },
  {
   "cell_type": "code",
   "execution_count": 74,
   "metadata": {},
   "outputs": [
    {
     "data": {
      "text/plain": [
       "request_datetime    datetime64[ns, UTC]\n",
       "id                               object\n",
       "created_datetime    datetime64[ns, UTC]\n",
       "total_views                       int64\n",
       "num_subscribers                   int64\n",
       "num_videos                        int64\n",
       "dtype: object"
      ]
     },
     "execution_count": 74,
     "metadata": {},
     "output_type": "execute_result"
    }
   ],
   "source": [
    "channel_df.dtypes"
   ]
  },
  {
   "cell_type": "markdown",
   "metadata": {},
   "source": [
    "## Load"
   ]
  },
  {
   "cell_type": "code",
   "execution_count": null,
   "metadata": {},
   "outputs": [],
   "source": [
    "\"\"\"CREATE TABLE IF NOT EXISTS channel_dim\n",
    "(\n",
    " channel_id varchar(24) NOT NULL,\n",
    " name       varchar(36) NOT NULL,\n",
    " created_at timestamp NOT NULL,\n",
    " CONSTRAINT PK_1 PRIMARY KEY ( channel_id )\n",
    ");\"\"\""
   ]
  },
  {
   "cell_type": "code",
   "execution_count": null,
   "metadata": {},
   "outputs": [],
   "source": [
    "\n",
    "\"\"\"CREATE TABLE IF NOT EXISTS channel_fact\n",
    "(\n",
    " datetime        timestamp NOT NULL,\n",
    " channel_id      varchar(24) NOT NULL,\n",
    " total_views     int NOT NULL,\n",
    " num_subscribers int NOT NULL,\n",
    " num_videos      int NOT NULL,\n",
    " CONSTRAINT PK_1 PRIMARY KEY ( datetime, channel_id )\n",
    ");\"\"\""
   ]
  },
  {
   "cell_type": "markdown",
   "metadata": {},
   "source": [
    "# Video Categories"
   ]
  },
  {
   "cell_type": "code",
   "execution_count": 83,
   "metadata": {},
   "outputs": [],
   "source": [
    "videoCategories_api_url = \"https://www.googleapis.com/youtube/v3/videoCategories\""
   ]
  },
  {
   "cell_type": "markdown",
   "metadata": {},
   "source": [
    "## Extract"
   ]
  },
  {
   "cell_type": "code",
   "execution_count": 80,
   "metadata": {},
   "outputs": [],
   "source": [
    "def parse_videoCategories_json(category):\n",
    "    id = category[\"id\"]\n",
    "    name = category[\"snippet\"][\"title\"]\n",
    "\n",
    "    return [id, name]"
   ]
  },
  {
   "cell_type": "code",
   "execution_count": 82,
   "metadata": {},
   "outputs": [
    {
     "data": {
      "text/html": [
       "<div>\n",
       "<style scoped>\n",
       "    .dataframe tbody tr th:only-of-type {\n",
       "        vertical-align: middle;\n",
       "    }\n",
       "\n",
       "    .dataframe tbody tr th {\n",
       "        vertical-align: top;\n",
       "    }\n",
       "\n",
       "    .dataframe thead th {\n",
       "        text-align: right;\n",
       "    }\n",
       "</style>\n",
       "<table border=\"1\" class=\"dataframe\">\n",
       "  <thead>\n",
       "    <tr style=\"text-align: right;\">\n",
       "      <th></th>\n",
       "      <th>id</th>\n",
       "      <th>name</th>\n",
       "    </tr>\n",
       "  </thead>\n",
       "  <tbody>\n",
       "  </tbody>\n",
       "</table>\n",
       "</div>"
      ],
      "text/plain": [
       "Empty DataFrame\n",
       "Columns: [id, name]\n",
       "Index: []"
      ]
     },
     "execution_count": 82,
     "metadata": {},
     "output_type": "execute_result"
    }
   ],
   "source": [
    "videoCategories_df = pd.DataFrame(columns=[\"id\",\"name\"])\n",
    "videoCategories_df"
   ]
  },
  {
   "cell_type": "code",
   "execution_count": null,
   "metadata": {},
   "outputs": [],
   "source": [
    "params = {\n",
    "    \"key\": api_key,\n",
    "    \"part\": \"snippet\",\n",
    "    \"regionCode\": \"US\",\n",
    "}\n",
    "\n",
    "response = requests.get(videoCategories_api_url, params=params)\n",
    "\n",
    "if response.status_code == 200:\n",
    "    response_json = response.json()\n",
    "\n",
    "    for category in response_json[\"items\"]:\n",
    "        # add channel details and datetime of request to end of video dataframe\n",
    "        videoCategories_df.loc[len(videoCategories_df)] = parse_videoCategories_json(category)\n",
    "\n",
    "else:\n",
    "    print(f\"response.status_code = {response.status_code}\")"
   ]
  },
  {
   "cell_type": "code",
   "execution_count": 84,
   "metadata": {},
   "outputs": [
    {
     "data": {
      "text/html": [
       "<div>\n",
       "<style scoped>\n",
       "    .dataframe tbody tr th:only-of-type {\n",
       "        vertical-align: middle;\n",
       "    }\n",
       "\n",
       "    .dataframe tbody tr th {\n",
       "        vertical-align: top;\n",
       "    }\n",
       "\n",
       "    .dataframe thead th {\n",
       "        text-align: right;\n",
       "    }\n",
       "</style>\n",
       "<table border=\"1\" class=\"dataframe\">\n",
       "  <thead>\n",
       "    <tr style=\"text-align: right;\">\n",
       "      <th></th>\n",
       "      <th>id</th>\n",
       "      <th>name</th>\n",
       "    </tr>\n",
       "  </thead>\n",
       "  <tbody>\n",
       "    <tr>\n",
       "      <th>0</th>\n",
       "      <td>1</td>\n",
       "      <td>Film &amp; Animation</td>\n",
       "    </tr>\n",
       "    <tr>\n",
       "      <th>1</th>\n",
       "      <td>2</td>\n",
       "      <td>Autos &amp; Vehicles</td>\n",
       "    </tr>\n",
       "    <tr>\n",
       "      <th>2</th>\n",
       "      <td>10</td>\n",
       "      <td>Music</td>\n",
       "    </tr>\n",
       "    <tr>\n",
       "      <th>3</th>\n",
       "      <td>15</td>\n",
       "      <td>Pets &amp; Animals</td>\n",
       "    </tr>\n",
       "    <tr>\n",
       "      <th>4</th>\n",
       "      <td>17</td>\n",
       "      <td>Sports</td>\n",
       "    </tr>\n",
       "    <tr>\n",
       "      <th>5</th>\n",
       "      <td>18</td>\n",
       "      <td>Short Movies</td>\n",
       "    </tr>\n",
       "    <tr>\n",
       "      <th>6</th>\n",
       "      <td>19</td>\n",
       "      <td>Travel &amp; Events</td>\n",
       "    </tr>\n",
       "    <tr>\n",
       "      <th>7</th>\n",
       "      <td>20</td>\n",
       "      <td>Gaming</td>\n",
       "    </tr>\n",
       "    <tr>\n",
       "      <th>8</th>\n",
       "      <td>21</td>\n",
       "      <td>Videoblogging</td>\n",
       "    </tr>\n",
       "    <tr>\n",
       "      <th>9</th>\n",
       "      <td>22</td>\n",
       "      <td>People &amp; Blogs</td>\n",
       "    </tr>\n",
       "    <tr>\n",
       "      <th>10</th>\n",
       "      <td>23</td>\n",
       "      <td>Comedy</td>\n",
       "    </tr>\n",
       "    <tr>\n",
       "      <th>11</th>\n",
       "      <td>24</td>\n",
       "      <td>Entertainment</td>\n",
       "    </tr>\n",
       "    <tr>\n",
       "      <th>12</th>\n",
       "      <td>25</td>\n",
       "      <td>News &amp; Politics</td>\n",
       "    </tr>\n",
       "    <tr>\n",
       "      <th>13</th>\n",
       "      <td>26</td>\n",
       "      <td>Howto &amp; Style</td>\n",
       "    </tr>\n",
       "    <tr>\n",
       "      <th>14</th>\n",
       "      <td>27</td>\n",
       "      <td>Education</td>\n",
       "    </tr>\n",
       "    <tr>\n",
       "      <th>15</th>\n",
       "      <td>28</td>\n",
       "      <td>Science &amp; Technology</td>\n",
       "    </tr>\n",
       "    <tr>\n",
       "      <th>16</th>\n",
       "      <td>29</td>\n",
       "      <td>Nonprofits &amp; Activism</td>\n",
       "    </tr>\n",
       "    <tr>\n",
       "      <th>17</th>\n",
       "      <td>30</td>\n",
       "      <td>Movies</td>\n",
       "    </tr>\n",
       "    <tr>\n",
       "      <th>18</th>\n",
       "      <td>31</td>\n",
       "      <td>Anime/Animation</td>\n",
       "    </tr>\n",
       "    <tr>\n",
       "      <th>19</th>\n",
       "      <td>32</td>\n",
       "      <td>Action/Adventure</td>\n",
       "    </tr>\n",
       "    <tr>\n",
       "      <th>20</th>\n",
       "      <td>33</td>\n",
       "      <td>Classics</td>\n",
       "    </tr>\n",
       "    <tr>\n",
       "      <th>21</th>\n",
       "      <td>34</td>\n",
       "      <td>Comedy</td>\n",
       "    </tr>\n",
       "    <tr>\n",
       "      <th>22</th>\n",
       "      <td>35</td>\n",
       "      <td>Documentary</td>\n",
       "    </tr>\n",
       "    <tr>\n",
       "      <th>23</th>\n",
       "      <td>36</td>\n",
       "      <td>Drama</td>\n",
       "    </tr>\n",
       "    <tr>\n",
       "      <th>24</th>\n",
       "      <td>37</td>\n",
       "      <td>Family</td>\n",
       "    </tr>\n",
       "    <tr>\n",
       "      <th>25</th>\n",
       "      <td>38</td>\n",
       "      <td>Foreign</td>\n",
       "    </tr>\n",
       "    <tr>\n",
       "      <th>26</th>\n",
       "      <td>39</td>\n",
       "      <td>Horror</td>\n",
       "    </tr>\n",
       "    <tr>\n",
       "      <th>27</th>\n",
       "      <td>40</td>\n",
       "      <td>Sci-Fi/Fantasy</td>\n",
       "    </tr>\n",
       "    <tr>\n",
       "      <th>28</th>\n",
       "      <td>41</td>\n",
       "      <td>Thriller</td>\n",
       "    </tr>\n",
       "    <tr>\n",
       "      <th>29</th>\n",
       "      <td>42</td>\n",
       "      <td>Shorts</td>\n",
       "    </tr>\n",
       "    <tr>\n",
       "      <th>30</th>\n",
       "      <td>43</td>\n",
       "      <td>Shows</td>\n",
       "    </tr>\n",
       "    <tr>\n",
       "      <th>31</th>\n",
       "      <td>44</td>\n",
       "      <td>Trailers</td>\n",
       "    </tr>\n",
       "  </tbody>\n",
       "</table>\n",
       "</div>"
      ],
      "text/plain": [
       "    id                   name\n",
       "0    1       Film & Animation\n",
       "1    2       Autos & Vehicles\n",
       "2   10                  Music\n",
       "3   15         Pets & Animals\n",
       "4   17                 Sports\n",
       "5   18           Short Movies\n",
       "6   19        Travel & Events\n",
       "7   20                 Gaming\n",
       "8   21          Videoblogging\n",
       "9   22         People & Blogs\n",
       "10  23                 Comedy\n",
       "11  24          Entertainment\n",
       "12  25        News & Politics\n",
       "13  26          Howto & Style\n",
       "14  27              Education\n",
       "15  28   Science & Technology\n",
       "16  29  Nonprofits & Activism\n",
       "17  30                 Movies\n",
       "18  31        Anime/Animation\n",
       "19  32       Action/Adventure\n",
       "20  33               Classics\n",
       "21  34                 Comedy\n",
       "22  35            Documentary\n",
       "23  36                  Drama\n",
       "24  37                 Family\n",
       "25  38                Foreign\n",
       "26  39                 Horror\n",
       "27  40         Sci-Fi/Fantasy\n",
       "28  41               Thriller\n",
       "29  42                 Shorts\n",
       "30  43                  Shows\n",
       "31  44               Trailers"
      ]
     },
     "execution_count": 84,
     "metadata": {},
     "output_type": "execute_result"
    }
   ],
   "source": [
    "videoCategories_df"
   ]
  },
  {
   "cell_type": "code",
   "execution_count": 87,
   "metadata": {},
   "outputs": [
    {
     "data": {
      "text/plain": [
       "True"
      ]
     },
     "execution_count": 87,
     "metadata": {},
     "output_type": "execute_result"
    }
   ],
   "source": [
    "# all categories accounted for\n",
    "set(videoCategories_df[\"id\"]).intersection(set(video_df[\"category_id\"])) == set(video_df[\"category_id\"])"
   ]
  },
  {
   "cell_type": "code",
   "execution_count": 89,
   "metadata": {},
   "outputs": [
    {
     "data": {
      "text/plain": [
       "21"
      ]
     },
     "execution_count": 89,
     "metadata": {},
     "output_type": "execute_result"
    }
   ],
   "source": [
    "videoCategories_df[\"name\"].apply(lambda x: len(x)).max()"
   ]
  },
  {
   "cell_type": "markdown",
   "metadata": {},
   "source": [
    "## Load"
   ]
  },
  {
   "cell_type": "code",
   "execution_count": null,
   "metadata": {},
   "outputs": [],
   "source": [
    "\"\"\"CREATE TABLE IF NOT EXISTS categories_dim\n",
    "(\n",
    " category_id int NOT NULL,\n",
    " name        varchar(21) NOT NULL,\n",
    " CONSTRAINT PK_1 PRIMARY KEY ( category_id )\n",
    ");\"\"\""
   ]
  }
 ],
 "metadata": {
  "kernelspec": {
   "display_name": "Python 3",
   "language": "python",
   "name": "python3"
  },
  "language_info": {
   "codemirror_mode": {
    "name": "ipython",
    "version": 3
   },
   "file_extension": ".py",
   "mimetype": "text/x-python",
   "name": "python",
   "nbconvert_exporter": "python",
   "pygments_lexer": "ipython3",
   "version": "3.11.5"
  }
 },
 "nbformat": 4,
 "nbformat_minor": 2
}
