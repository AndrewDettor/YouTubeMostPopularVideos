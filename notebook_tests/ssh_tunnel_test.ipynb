{
 "cells": [
  {
   "cell_type": "code",
   "execution_count": 8,
   "metadata": {},
   "outputs": [],
   "source": [
    "import os\n",
    "import psycopg2\n",
    "from dotenv import load_dotenv\n",
    "from sshtunnel import SSHTunnelForwarder\n",
    "import time"
   ]
  },
  {
   "cell_type": "code",
   "execution_count": 4,
   "metadata": {},
   "outputs": [],
   "source": [
    "# Load environment variables from .env file\n",
    "load_dotenv(\"environment_variables.env\")\n",
    "api_key = os.getenv(\"API_KEY\")\n",
    "psql_pw = os.getenv(\"PSQL_PW\")"
   ]
  },
  {
   "cell_type": "code",
   "execution_count": 6,
   "metadata": {},
   "outputs": [],
   "source": [
    "# SSH parameters\n",
    "bastion_host = 'ec2-34-224-93-62.compute-1.amazonaws.com'\n",
    "bastion_user = 'ec2-user'\n",
    "bastion_key = 'C:\\\\Users\\\\detto\\\\Documents\\\\ec2-key-pair.pem'\n",
    "\n",
    "# RDS parameters\n",
    "rds_host = 'youtubeviewprediction.cd0c8oow2pnr.us-east-1.rds.amazonaws.com'\n",
    "rds_user = 'postgres'\n",
    "rds_password = psql_pw\n",
    "rds_database = 'YouTubeViewPrediction'\n",
    "rds_port = 5432"
   ]
  },
  {
   "cell_type": "code",
   "execution_count": 10,
   "metadata": {},
   "outputs": [
    {
     "name": "stdout",
     "output_type": "stream",
     "text": [
      "SSH tunnel established. Local bind address: ('127.0.0.1', 6543)\n",
      "You are connected to -  ('PostgreSQL 16.1 on x86_64-pc-linux-gnu, compiled by gcc (GCC) 7.3.1 20180712 (Red Hat 7.3.1-12), 64-bit',) \n",
      "\n"
     ]
    }
   ],
   "source": [
    "# Create an SSH tunnel\n",
    "tunnel = SSHTunnelForwarder(\n",
    "    (bastion_host, 22),\n",
    "    ssh_username=bastion_user,\n",
    "    ssh_pkey=bastion_key,\n",
    "    remote_bind_address=(rds_host, rds_port),\n",
    "    local_bind_address=('localhost', 6543)  # Choose a local port for the tunnel\n",
    ")\n",
    "\n",
    "# Start the tunnel\n",
    "tunnel.start()\n",
    "\n",
    "# Connect to PostgreSQL through the tunnel\n",
    "conn = psycopg2.connect(\n",
    "    database=rds_database,\n",
    "    user=rds_user,\n",
    "    password=rds_password,\n",
    "    host=tunnel.local_bind_host,\n",
    "    port=tunnel.local_bind_port\n",
    ")\n",
    "\n",
    "# Create a cursor object using the cursor() method\n",
    "cursor = conn.cursor()\n",
    "\n",
    "# Execute a SQL query\n",
    "cursor.execute(\"SELECT version();\")\n",
    "\n",
    "# Fetch result\n",
    "record = cursor.fetchone()\n",
    "print(\"You are connected to - \", record, \"\\n\")"
   ]
  },
  {
   "cell_type": "code",
   "execution_count": null,
   "metadata": {},
   "outputs": [],
   "source": [
    "\n",
    "# Create an SSH client\n",
    "ssh = paramiko.SSHClient()\n",
    "ssh.set_missing_host_key_policy(paramiko.AutoAddPolicy())\n",
    "ssh.connect(bastion_host, username=bastion_user, key_filename=bastion_key)\n",
    "\n",
    "# Start the tunnel\n",
    "transport = ssh.get_transport()\n",
    "local_bind_address = ('localhost', 6543)\n",
    "remote_bind_address = (rds_host, rds_port)\n",
    "channel = transport.open_channel(\"direct-tcpip\", remote_bind_address, local_bind_address)\n",
    "\n",
    "# Wait a bit for the tunnel to be established\n",
    "time.sleep(1)\n",
    "\n",
    "# Connect to PostgreSQL through the tunnel\n",
    "try:\n",
    "    conn = psycopg2.connect(\n",
    "        database=rds_database,\n",
    "        user=rds_user,\n",
    "        password=rds_password,\n",
    "        host=local_bind_address[0],\n",
    "        port=local_bind_address[1]\n",
    "    )\n",
    "    print(\"Connected to PostgreSQL database\")\n",
    "\n",
    "    # Create a cursor object and execute a query\n",
    "    cur = conn.cursor()\n",
    "    cur.execute(\"SELECT version();\")\n",
    "    # Fetch result\n",
    "    record = cur.fetchone()\n",
    "    print(\"You are connected to - \", record, \"\\n\")\n",
    "except (Exception, psycopg2.Error) as error:\n",
    "        print(\"Error while connecting to PostgreSQL\", error)\n",
    "    "
   ]
  },
  {
   "cell_type": "code",
   "execution_count": null,
   "metadata": {},
   "outputs": [],
   "source": [
    "ssh -i C:\\\\Users\\\\detto\\\\Documents\\\\ec2-key-pair.pem -L 6543:youtubeviewprediction.cd0c8oow2pnr.us-east-1.rds.amazonaws.com:5432 ec2-user@34.224.93.62\n"
   ]
  }
 ],
 "metadata": {
  "kernelspec": {
   "display_name": "Python 3",
   "language": "python",
   "name": "python3"
  },
  "language_info": {
   "codemirror_mode": {
    "name": "ipython",
    "version": 3
   },
   "file_extension": ".py",
   "mimetype": "text/x-python",
   "name": "python",
   "nbconvert_exporter": "python",
   "pygments_lexer": "ipython3",
   "version": "3.10.6"
  }
 },
 "nbformat": 4,
 "nbformat_minor": 2
}
